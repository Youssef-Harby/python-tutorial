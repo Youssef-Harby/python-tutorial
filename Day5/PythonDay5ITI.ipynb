{
 "cells": [
  {
   "cell_type": "markdown",
   "metadata": {},
   "source": [
    "## Python OOP"
   ]
  },
  {
   "cell_type": "markdown",
   "metadata": {},
   "source": [
    "### Abstract CLass 31:00 to 57:00 (Abstraction)"
   ]
  },
  {
   "cell_type": "markdown",
   "metadata": {},
   "source": [
    "معمول علشان يتورث\n",
    "- كلاس عادي\n",
    "- هايورث محتواه\n",
    "- اسم الدالة وبتاخد كام Parm"
   ]
  },
  {
   "cell_type": "code",
   "execution_count": 5,
   "metadata": {},
   "outputs": [],
   "source": [
    "import abc\n",
    "\n",
    "class shape(metaclass = abc.ABCMeta):\n",
    "    @abc.abstractclassmethod\n",
    "    def printSides (self):\n",
    "        pass\n",
    "\n",
    "class rect(shape):\n",
    "    pass"
   ]
  },
  {
   "cell_type": "code",
   "execution_count": 6,
   "metadata": {},
   "outputs": [
    {
     "ename": "TypeError",
     "evalue": "Can't instantiate abstract class rect with abstract method printSides",
     "output_type": "error",
     "traceback": [
      "\u001b[1;31m---------------------------------------------------------------------------\u001b[0m",
      "\u001b[1;31mTypeError\u001b[0m                                 Traceback (most recent call last)",
      "Input \u001b[1;32mIn [6]\u001b[0m, in \u001b[0;36m<module>\u001b[1;34m\u001b[0m\n\u001b[1;32m----> 1\u001b[0m r \u001b[38;5;241m=\u001b[39m \u001b[43mrect\u001b[49m\u001b[43m(\u001b[49m\u001b[43m)\u001b[49m\n",
      "\u001b[1;31mTypeError\u001b[0m: Can't instantiate abstract class rect with abstract method printSides"
     ]
    }
   ],
   "source": [
    "r = rect()"
   ]
  },
  {
   "cell_type": "code",
   "execution_count": 13,
   "metadata": {},
   "outputs": [],
   "source": [
    "import abc\n",
    "\n",
    "class shape(metaclass = abc.ABCMeta):\n",
    "    @abc.abstractclassmethod\n",
    "    def printSides (self):\n",
    "        pass\n",
    "\n",
    "class rect:\n",
    "    pass"
   ]
  },
  {
   "cell_type": "code",
   "execution_count": 12,
   "metadata": {},
   "outputs": [
    {
     "ename": "TypeError",
     "evalue": "Can't instantiate abstract class shape with abstract method printSides",
     "output_type": "error",
     "traceback": [
      "\u001b[1;31m---------------------------------------------------------------------------\u001b[0m",
      "\u001b[1;31mTypeError\u001b[0m                                 Traceback (most recent call last)",
      "Input \u001b[1;32mIn [12]\u001b[0m, in \u001b[0;36m<module>\u001b[1;34m\u001b[0m\n\u001b[0;32m      1\u001b[0m r \u001b[38;5;241m=\u001b[39m rect() \u001b[38;5;66;03m# ✔️\u001b[39;00m\n\u001b[1;32m----> 2\u001b[0m s \u001b[38;5;241m=\u001b[39m \u001b[43mshape\u001b[49m\u001b[43m(\u001b[49m\u001b[43m)\u001b[49m\n",
      "\u001b[1;31mTypeError\u001b[0m: Can't instantiate abstract class shape with abstract method printSides"
     ]
    }
   ],
   "source": [
    "r = rect() # ✔️\n",
    "s = shape()"
   ]
  },
  {
   "cell_type": "markdown",
   "metadata": {},
   "source": [
    "### Override Abstract Fun"
   ]
  },
  {
   "cell_type": "markdown",
   "metadata": {},
   "source": [
    "we cannot change printSides fun name in rect or any other child class"
   ]
  },
  {
   "cell_type": "code",
   "execution_count": 31,
   "metadata": {},
   "outputs": [],
   "source": [
    "import abc\n",
    "\n",
    "class shape(metaclass = abc.ABCMeta):\n",
    "    @abc.abstractclassmethod\n",
    "    def printSides (self):\n",
    "        pass\n",
    "\n",
    "class rect(shape):\n",
    "    def printSides(self):   #Override ✍️ the parent\n",
    "        print('I have 4 sides')\n",
    "class tri(shape):\n",
    "    def printSides(self):   #Override ✍️ the parent with min requirements\n",
    "        print('I have 3 sides')\n",
    "    # we can add functions as we want in class but must have the min req that in parent (Abstract Class Content)"
   ]
  },
  {
   "cell_type": "code",
   "execution_count": 32,
   "metadata": {},
   "outputs": [
    {
     "name": "stdout",
     "output_type": "stream",
     "text": [
      "I have 4 sides\n",
      "I have 3 sides\n"
     ]
    }
   ],
   "source": [
    "r = rect() # ✔️\n",
    "r.printSides()\n",
    "t = tri() # ✔️\n",
    "t.printSides()"
   ]
  },
  {
   "cell_type": "markdown",
   "metadata": {},
   "source": [
    "### Encapsulation (Information Hiding) 57:00 (Private Info)"
   ]
  },
  {
   "cell_type": "code",
   "execution_count": 38,
   "metadata": {},
   "outputs": [],
   "source": [
    "class student:\n",
    "    name = None     # Public Variable 📢\n",
    "    __grade = None  # Private Variable 🔏\n",
    "\n",
    "    def __init__(self,n='Mohamed', g = 80):\n",
    "        self.name = n       # Public Variable 📢\n",
    "        self.__grade = g    # Private Variable 🔏"
   ]
  },
  {
   "cell_type": "code",
   "execution_count": 39,
   "metadata": {},
   "outputs": [
    {
     "ename": "AttributeError",
     "evalue": "'student' object has no attribute 'grade'",
     "output_type": "error",
     "traceback": [
      "\u001b[1;31m---------------------------------------------------------------------------\u001b[0m",
      "\u001b[1;31mAttributeError\u001b[0m                            Traceback (most recent call last)",
      "Input \u001b[1;32mIn [39]\u001b[0m, in \u001b[0;36m<module>\u001b[1;34m\u001b[0m\n\u001b[0;32m      1\u001b[0m s \u001b[38;5;241m=\u001b[39m student()\n\u001b[0;32m      2\u001b[0m s\u001b[38;5;241m.\u001b[39mname\n\u001b[1;32m----> 3\u001b[0m \u001b[43ms\u001b[49m\u001b[38;5;241;43m.\u001b[39;49m\u001b[43mgrade\u001b[49m\n",
      "\u001b[1;31mAttributeError\u001b[0m: 'student' object has no attribute 'grade'"
     ]
    }
   ],
   "source": [
    "s = student()\n",
    "s.name\n",
    "s.grade # We cannot access the grade now 🔏 it's private by (__Variable)"
   ]
  },
  {
   "cell_type": "markdown",
   "metadata": {},
   "source": [
    "# 2"
   ]
  },
  {
   "cell_type": "code",
   "execution_count": 42,
   "metadata": {},
   "outputs": [],
   "source": [
    "class student:\n",
    "    name = None     # Public Variable 📢\n",
    "    __grade = None  # Private Variable 🔏\n",
    "\n",
    "    def __init__(self,n='Mohamed', g = 80):\n",
    "        self.name = n       # Public Variable 📢\n",
    "        self.__grade = g    # Private Variable 🔏\n",
    "    def printAll(self):\n",
    "        print(self.name)\n",
    "        print(self.__grade)"
   ]
  },
  {
   "cell_type": "code",
   "execution_count": 43,
   "metadata": {},
   "outputs": [
    {
     "name": "stdout",
     "output_type": "stream",
     "text": [
      "Mohamed\n",
      "80\n"
     ]
    }
   ],
   "source": [
    "s = student()\n",
    "s.printAll() # We can access the grade now 🔏 it's public in printAll by (__Variable)"
   ]
  },
  {
   "cell_type": "markdown",
   "metadata": {},
   "source": [
    "Setter New Field but cannot edit __grade"
   ]
  },
  {
   "cell_type": "code",
   "execution_count": 45,
   "metadata": {},
   "outputs": [
    {
     "name": "stdout",
     "output_type": "stream",
     "text": [
      "Mohamed\n",
      "80\n"
     ]
    }
   ],
   "source": [
    "s.grade = 130\n",
    "s.printAll() # also will return 80 not 130"
   ]
  },
  {
   "cell_type": "code",
   "execution_count": 49,
   "metadata": {},
   "outputs": [
    {
     "data": {
      "text/plain": [
       "130"
      ]
     },
     "execution_count": 49,
     "metadata": {},
     "output_type": "execute_result"
    }
   ],
   "source": [
    "s.grade # cannot"
   ]
  },
  {
   "cell_type": "markdown",
   "metadata": {},
   "source": [
    "### 3 => 01:23"
   ]
  },
  {
   "cell_type": "markdown",
   "metadata": {},
   "source": [
    "Getter for grade"
   ]
  },
  {
   "cell_type": "code",
   "execution_count": 50,
   "metadata": {},
   "outputs": [],
   "source": [
    "class student:\n",
    "    name = None     # Public Variable 📢\n",
    "    __grade = None  # Private Variable 🔏\n",
    "\n",
    "    # getter (grade)\n",
    "    def get_grade(self):\n",
    "        return self.__grade\n",
    "        \n",
    "    def __init__(self,n='Mohamed', g = 80):\n",
    "        self.name = n       # Public Variable 📢\n",
    "        self.__grade = g    # Private Variable 🔏\n",
    "    def printAll(self):\n",
    "        print(self.name)\n",
    "        print(self.__grade)"
   ]
  },
  {
   "cell_type": "code",
   "execution_count": 55,
   "metadata": {},
   "outputs": [
    {
     "name": "stdout",
     "output_type": "stream",
     "text": [
      "Mohamed\n",
      "80\n"
     ]
    },
    {
     "data": {
      "text/plain": [
       "80"
      ]
     },
     "execution_count": 55,
     "metadata": {},
     "output_type": "execute_result"
    }
   ],
   "source": [
    "s = student()\n",
    "s.printAll() # We can access the grade now 🔏 it's public in printAll by (__Variable)\n",
    "s.get_grade() # read only but cannot edit 01:25:30"
   ]
  },
  {
   "cell_type": "markdown",
   "metadata": {},
   "source": [
    "Setter for grade 01:26"
   ]
  },
  {
   "cell_type": "code",
   "execution_count": 69,
   "metadata": {},
   "outputs": [],
   "source": [
    "class student:\n",
    "    name = None     # Public Variable 📢\n",
    "    __grade = None  # Private Variable 🔏\n",
    "\n",
    "    # getter (grade)\n",
    "    def get_grade(self):\n",
    "        return self.__grade\n",
    "\n",
    "    # setter (grade)\n",
    "    def set_grade(self,g): # Make a roles and cond\n",
    "        if  100 <= g >= 0:\n",
    "            print('Grade must be >= 100 and < 0')\n",
    "        else:\n",
    "            self.__grade=g\n",
    "        \n",
    "    def __init__(self,n='Mohamed', g = 80):\n",
    "        self.name = n       # Public Variable 📢\n",
    "        self.__grade = g    # Private Variable 🔏\n",
    "    def printAll(self):\n",
    "        print(self.name)\n",
    "        print(self.__grade)"
   ]
  },
  {
   "cell_type": "code",
   "execution_count": 70,
   "metadata": {},
   "outputs": [
    {
     "name": "stdout",
     "output_type": "stream",
     "text": [
      "Grade must be >= 100 and < 0\n"
     ]
    },
    {
     "data": {
      "text/plain": [
       "80"
      ]
     },
     "execution_count": 70,
     "metadata": {},
     "output_type": "execute_result"
    }
   ],
   "source": [
    "s = student()\n",
    "s.set_grade(120) # Write only\n",
    "s.get_grade()   # read only but cannot edit 01:25:30"
   ]
  },
  {
   "cell_type": "markdown",
   "metadata": {},
   "source": [
    "add id role"
   ]
  },
  {
   "cell_type": "code",
   "execution_count": 84,
   "metadata": {},
   "outputs": [],
   "source": [
    "class student:\n",
    "    name = None     # Public Variable 📢\n",
    "    sID = None\n",
    "    __grade = None  # Private Variable 🔏\n",
    "\n",
    "    # getter (grade)\n",
    "    def get_grade(self):\n",
    "        if self.sID < 30:\n",
    "            print('Not allowed')\n",
    "        else:\n",
    "            return self.__grade\n",
    "\n",
    "    # setter (grade)\n",
    "    def set_grade(self,g): # Make a roles and cond\n",
    "        if  100 <= g >= 0:\n",
    "            print('Grade must be >= 100 and < 0')\n",
    "        else:\n",
    "            self.__grade=g\n",
    "        \n",
    "    def __init__(self,n='Mohamed', g = 80,id=0):\n",
    "        self.name = n       # Public Variable 📢\n",
    "        self.__grade = g    # Private Variable 🔏\n",
    "        self.sID = id\n",
    "    def printAll(self):\n",
    "        print(self.name)\n",
    "        print(self.sID)\n",
    "        # print(self.__grade)"
   ]
  },
  {
   "cell_type": "code",
   "execution_count": 86,
   "metadata": {},
   "outputs": [
    {
     "name": "stdout",
     "output_type": "stream",
     "text": [
      "Mohamed\n",
      "20\n",
      "80\n",
      "Not allowed\n"
     ]
    }
   ],
   "source": [
    "s = student()\n",
    "s.sID = 20\n",
    "s.printAll()\n",
    "s.get_grade()"
   ]
  },
  {
   "cell_type": "markdown",
   "metadata": {},
   "source": [
    "some issues"
   ]
  },
  {
   "cell_type": "code",
   "execution_count": 91,
   "metadata": {},
   "outputs": [],
   "source": [
    "class student:\n",
    "    name = None     # Public Variable 📢\n",
    "    sID = None\n",
    "    __grade = None  # Private Variable 🔏\n",
    "\n",
    "    # getter (grade)\n",
    "    def get_grade(self):\n",
    "        if self.sID < 30:\n",
    "            print('Not allowed')\n",
    "        else:\n",
    "            return self.__grade\n",
    "\n",
    "    # setter (grade)\n",
    "    def set_grade(self,g): # Make a roles and cond\n",
    "        if  100 <= g >= 0:\n",
    "            print('Grade must be >= 100 and < 0')\n",
    "        else:\n",
    "            self.__grade=g\n",
    "        \n",
    "    def __init__(self,n='Mohamed', g = 80,id=0):\n",
    "        self.name = n       # Public Variable 📢\n",
    "        self.__grade = g    # Private Variable 🔏\n",
    "        self.sID = id\n",
    "    def printAll(self):\n",
    "        print(self.name)\n",
    "        print(self.sID)\n",
    "        print(self.__grade)"
   ]
  },
  {
   "cell_type": "code",
   "execution_count": 97,
   "metadata": {},
   "outputs": [
    {
     "name": "stdout",
     "output_type": "stream",
     "text": [
      "sara\n",
      "50\n"
     ]
    },
    {
     "data": {
      "text/plain": [
       "130"
      ]
     },
     "execution_count": 97,
     "metadata": {},
     "output_type": "execute_result"
    }
   ],
   "source": [
    "s = student('sara',130,50)\n",
    "s.printAll()\n",
    "s.get_grade() # Must be >= 100 👎"
   ]
  },
  {
   "cell_type": "markdown",
   "metadata": {},
   "source": [
    "#### Solution 01:45"
   ]
  },
  {
   "cell_type": "markdown",
   "metadata": {},
   "source": [
    "- Add the condition in __init__ (not prefered)\n",
    "- call the setter and setter roles in __init__ 01:52"
   ]
  },
  {
   "cell_type": "code",
   "execution_count": 116,
   "metadata": {},
   "outputs": [],
   "source": [
    "class student:\n",
    "    name = None     # Public Variable 📢\n",
    "    sID = None\n",
    "    __grade = None  # Private Variable 🔏\n",
    "\n",
    "    # getter (grade)\n",
    "    def get_grade(self):\n",
    "        if self.sID < 30:\n",
    "            print('Not allowed')\n",
    "        else:\n",
    "            return self.__grade\n",
    "\n",
    "    # setter (grade)\n",
    "    def set_grade(self,g): # Make a roles and cond\n",
    "        if  100 <= g >= 0:\n",
    "            self.__grade = 50 # ON and OFF 🔂 and see the Result of s.get_grade()\n",
    "            print('Grade must be >= 100 and < 0')\n",
    "        else:\n",
    "            self.__grade=g\n",
    "        \n",
    "    def __init__(self,n='Mohamed', g = 80,id=0):\n",
    "        self.name = n       # Public Variable 📢\n",
    "        #self.__grade = g    # Private Variable 🔏 # ------\n",
    "        self.sID = id #                                     \\\n",
    "        self.set_grade(g) # ------------------------------- # call the setter and setter roles\n",
    "\n",
    "\n",
    "    def printAll(self):\n",
    "        print(self.name)\n",
    "        print(self.sID)\n",
    "        print('Grade: ',self.get_grade()) # we call the getter to apply its roles and cond"
   ]
  },
  {
   "cell_type": "code",
   "execution_count": 117,
   "metadata": {},
   "outputs": [
    {
     "name": "stdout",
     "output_type": "stream",
     "text": [
      "Grade must be >= 100 and < 0\n",
      "sara\n",
      "50\n",
      "Grade:  50\n"
     ]
    },
    {
     "data": {
      "text/plain": [
       "50"
      ]
     },
     "execution_count": 117,
     "metadata": {},
     "output_type": "execute_result"
    }
   ],
   "source": [
    "s = student('sara',130,50) # ON and OFF (remove inside) 🔂 and see the Result of s.get_grade() = Not allowed\n",
    "s.printAll()\n",
    "s.get_grade() # Will return None, To solve it we should add self.__grade = 50 before print('Grade must be >= 100 and < 0')"
   ]
  },
  {
   "cell_type": "markdown",
   "metadata": {},
   "source": [
    "#### Exeption (Add bouns) 02:00"
   ]
  },
  {
   "cell_type": "code",
   "execution_count": 118,
   "metadata": {},
   "outputs": [],
   "source": [
    "class student:\n",
    "    name = None     # Public Variable 📢\n",
    "    sID = None\n",
    "    __grade = None  # Private Variable 🔏\n",
    "\n",
    "    # getter (grade)\n",
    "    def get_grade(self):\n",
    "        if self.sID < 30:\n",
    "            print('Not allowed')\n",
    "        else:\n",
    "            return self.__grade\n",
    "\n",
    "    # setter (grade)\n",
    "    def set_grade(self,g): # Make a roles and cond\n",
    "        if  100 <= g >= 0:\n",
    "            self.__grade = 50 # ON and OFF 🔂 and see the Result of s.get_grade()\n",
    "            print('Grade must be >= 100 and < 0')\n",
    "        else:\n",
    "            self.__grade=g\n",
    "        \n",
    "    def __init__(self,n='Mohamed', g = 80,id=0):\n",
    "        self.name = n       # Public Variable 📢\n",
    "        #self.__grade = g    # Private Variable 🔏 # ------\n",
    "        self.sID = id #                                     \\\n",
    "        self.set_grade(g) # ------------------------------- # call the setter and setter roles\n",
    "\n",
    "\n",
    "    def printAll(self):\n",
    "        print(self.name)\n",
    "        print(self.sID)\n",
    "        print('Grade: ',self.get_grade()) # we call the getter to apply its roles and cond\n",
    "    \n",
    "    def add_bouns(self,b):\n",
    "        self.__grade += b\n",
    "        "
   ]
  },
  {
   "cell_type": "code",
   "execution_count": 125,
   "metadata": {},
   "outputs": [
    {
     "name": "stdout",
     "output_type": "stream",
     "text": [
      "Grade must be >= 100 and < 0\n",
      "sara\n",
      "50\n",
      "Grade:  50\n",
      "sara\n",
      "50\n",
      "Grade:  110\n"
     ]
    }
   ],
   "source": [
    "s = student('sara',100,50) # ON and OFF (remove inside) 🔂 and see the Result of s.get_grade() = Not allowed\n",
    "s.printAll()\n",
    "s.get_grade() # Will return None, To solve it we should add self.__grade = 50 before print('Grade must be >= 100 and < 0')\n",
    "s.add_bouns(60)\n",
    "s.printAll() #grade = 50 + 60 (bouns) = 110"
   ]
  },
  {
   "cell_type": "markdown",
   "metadata": {},
   "source": [
    "#### Delete 02:13"
   ]
  },
  {
   "cell_type": "code",
   "execution_count": 137,
   "metadata": {},
   "outputs": [],
   "source": [
    "class student:\n",
    "    name = None     # Public Variable 📢\n",
    "    sID = None\n",
    "    __grade = None  # Private Variable 🔏\n",
    "\n",
    "    # getter (grade)\n",
    "    def get_grade(self):\n",
    "        if self.sID < 30:\n",
    "            print('Not allowed')\n",
    "        else:\n",
    "            return self.__grade\n",
    "\n",
    "    # setter (grade)\n",
    "    def set_grade(self,g): # Make a roles and cond\n",
    "        if  100 <= g >= 0:\n",
    "            self.__grade = 50 # ON and OFF 🔂 and see the Result of s.get_grade()\n",
    "            print('Grade must be >= 100 and < 0')\n",
    "        else:\n",
    "            self.__grade=g\n",
    "\n",
    "    # Delete\n",
    "    def del_sid(self):\n",
    "        print('You can not delete ID')\n",
    "        # del s.sID\n",
    "        \n",
    "    def __init__(self,n='Mohamed', g = 80,id=0):\n",
    "        self.name = n       # Public Variable 📢\n",
    "        #self.__grade = g    # Private Variable 🔏 # ------\n",
    "        self.sID = id #                                     \\\n",
    "        self.set_grade(g) # ------------------------------- # call the setter and setter roles\n",
    "\n",
    "\n",
    "    def printAll(self):\n",
    "        print(self.name)\n",
    "        print(self.sID)\n",
    "        print('Grade: ',self.get_grade()) # we call the getter to apply its roles and cond\n",
    "    \n",
    "    def add_bouns(self,b):\n",
    "        self.__grade += b\n",
    "        "
   ]
  },
  {
   "cell_type": "code",
   "execution_count": 138,
   "metadata": {},
   "outputs": [
    {
     "name": "stdout",
     "output_type": "stream",
     "text": [
      "Grade must be >= 100 and < 0\n",
      "sara\n",
      "50\n",
      "Grade:  50\n",
      "You can not delete ID\n"
     ]
    }
   ],
   "source": [
    "s = student('sara',100,50) # ON and OFF (remove inside) 🔂 and see the Result of s.get_grade() = Not allowed\n",
    "s.printAll()\n",
    "#s.__sID # must be Private not Public (s.sID) then we have to use del func to delete a value of attribute\n",
    "s.del_sid()"
   ]
  },
  {
   "cell_type": "markdown",
   "metadata": {},
   "source": [
    "### Proberty / Encapsulation\n",
    "call setters and getters but in s.x = value"
   ]
  },
  {
   "cell_type": "code",
   "execution_count": 151,
   "metadata": {},
   "outputs": [],
   "source": [
    "class student:\n",
    "    name = None     # Public Variable 📢\n",
    "    sID = None\n",
    "    __grade = None  # Private Variable 🔏\n",
    "\n",
    "    # getter (grade)\n",
    "    def __get_grade(self):\n",
    "        if self.sID < 30:\n",
    "            print('Not allowed')\n",
    "        else:\n",
    "            return self.__grade\n",
    "\n",
    "    # setter (grade)\n",
    "    def __set_grade(self,g): # Make a roles and cond\n",
    "        if  100 <= g >= 0:\n",
    "            self.__grade = 50 # ON and OFF 🔂 and see the Result of s.get_grade()\n",
    "            print('Grade must be >= 100 and < 0')\n",
    "        else:\n",
    "            self.__grade=g\n",
    "\n",
    "    # Delete\n",
    "    def __del_grade(self):\n",
    "        print('You cannot delete the grade')\n",
    "\n",
    "    def del_sid(self):\n",
    "        print('You can not delete ID')\n",
    "        # del s.sID\n",
    "\n",
    "    ## Public Proberty (nafs el esm el private 3lshan mantl8btsh '3orf')\n",
    "    grade= property(__get_grade,__set_grade,__del_grade)\n",
    "        \n",
    "    def __init__(self,n='Mohamed', g = 80,id=0):\n",
    "        self.name = n       # Public Variable 📢\n",
    "        #self.__grade = g    # Private Variable 🔏 # ------\n",
    "        self.sID = id #                                     \\\n",
    "        self.__set_grade(g) # ------------------------------- # call the setter and setter roles\n",
    "\n",
    "\n",
    "    def printAll(self):\n",
    "        print(self.name)\n",
    "        print(self.sID)\n",
    "        print('Grade: ',self.__get_grade()) # we call the getter to apply its roles and cond\n",
    "    \n",
    "    def add_bouns(self,b):\n",
    "        self.__grade += b\n",
    "        "
   ]
  },
  {
   "cell_type": "code",
   "execution_count": 158,
   "metadata": {},
   "outputs": [
    {
     "name": "stdout",
     "output_type": "stream",
     "text": [
      "You cannot delete the grade\n"
     ]
    },
    {
     "data": {
      "text/plain": [
       "65"
      ]
     },
     "execution_count": 158,
     "metadata": {},
     "output_type": "execute_result"
    }
   ],
   "source": [
    "s = student('aya',65,40)\n",
    "s.grade\n",
    "del s.grade\n",
    "s.grade"
   ]
  }
 ],
 "metadata": {
  "interpreter": {
   "hash": "c2c3639f316740832002486dd26ba6b6250f1d86931da03b63eb8e91805d4fe1"
  },
  "kernelspec": {
   "display_name": "Python 3.9.2 64-bit",
   "language": "python",
   "name": "python3"
  },
  "language_info": {
   "codemirror_mode": {
    "name": "ipython",
    "version": 3
   },
   "file_extension": ".py",
   "mimetype": "text/x-python",
   "name": "python",
   "nbconvert_exporter": "python",
   "pygments_lexer": "ipython3",
   "version": "3.9.2"
  },
  "orig_nbformat": 4
 },
 "nbformat": 4,
 "nbformat_minor": 2
}
