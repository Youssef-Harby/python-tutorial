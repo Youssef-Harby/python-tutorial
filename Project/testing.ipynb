{
 "cells": [
  {
   "cell_type": "markdown",
   "metadata": {},
   "source": [
    "## Python OOP Project"
   ]
  },
  {
   "cell_type": "markdown",
   "metadata": {},
   "source": [
    "1. **Member Class:**\n",
    "- This class is an abstract class.\n",
    "- It has only 3 abstract methods (empty methods contains\n",
    "pass):\n",
    "1. printPlayerData()\n",
    "2. calcSalaryPerYear()\n",
    "3. calcRemainingDuration()"
   ]
  },
  {
   "cell_type": "code",
   "execution_count": 141,
   "metadata": {},
   "outputs": [],
   "source": [
    "import abc\n",
    "import datetime\n",
    "# 1\n",
    "# The class member is an abstract class.\n",
    "# The class member has three abstract methods: printPlayerData, calcSalaryPerYear, and\n",
    "# calcRemainingDuration.\n",
    "\n",
    "\n",
    "class member(metaclass=abc.ABCMeta):\n",
    "    @abc.abstractclassmethod\n",
    "    def printPlayerData(self):\n",
    "        pass\n",
    "\n",
    "    def calcSalaryPerYear(self):\n",
    "        pass\n",
    "\n",
    "    def calcRemainingDuration(self):\n",
    "        pass"
   ]
  },
  {
   "cell_type": "markdown",
   "metadata": {},
   "source": [
    "2. **Player Class:**\n",
    "- Player Class inherits Member class.\n",
    "- Private Fields:\n",
    "1. Player Name\n",
    "2. Player Number\n",
    "3. Player Salary per week\n",
    "4. Signing Date\n",
    "5. contract duration in years,\n",
    "6. number of matches played\n",
    ">- Note: Signing Date will be as Date/time Data type(google it)\n",
    ">- c- All private fields should have (setter, getter, delete,Property)\n",
    "\n",
    "These are some constrains that should be implemented in the setters and getters:\n",
    "\n",
    "1. Player Number shouldn’t exceed 30.\n",
    "2. Player Salary per week shouldn’t exceed 100,000\n",
    "3. Max contract duration is 5 Years.\n",
    "4. Signing Date is read only Fields (No setter)\n",
    "5. Parametrized constructor with initial values that support constructor over loading.\n",
    ">Notes:\n",
    ">- Obligatory fields (must be entered via constructor)\n",
    ">-(Player Name -Player Number - Signing Date)\n",
    "- Optional fields:\n",
    "- Salary per week = 20,000\n",
    "- contract duration in years = 3\n",
    "- number of matches played = 0\n",
    ">Note: User will enter the values via constructor and these entered values will be assigned to the private fields of the class via Properties/setters/getters\n",
    "- The class overrides the 3 functions of the Member\n",
    "- Class as follows:\n",
    "1. printPlayerData(): print all the private fields.\n",
    "2. calcSalaryPerYear(): return the total salary of the player per Year\n",
    "    - total salary per year = weekly salary * 4 * 12\n",
    "3. calcRemainingDuration(): return remaining duration of the player in days\n",
    "    - Remaining duration(in weeks) = the date (now) – signing data\n",
    "\n",
    "> Note: use the data time now method (google it)\n",
    "- The Player class has the following additional functions:\n",
    "1. IncreamentMatches(): This functions will add +1 to the number of matches played.\n",
    "2. increamentContractDutarion (number of additional years): this function receives the number of additional years and adds it to (contract duration in years)"
   ]
  },
  {
   "cell_type": "code",
   "execution_count": 142,
   "metadata": {},
   "outputs": [],
   "source": [
    "# 2\n",
    "class player(member):\n",
    "    __playerName = None  # i\n",
    "    __playerNumber = None  # ii\n",
    "    __playerSalaryPerWeek = None  # iii\n",
    "    __signingDate = None  # iv - Date/Time DataType\n",
    "    __contractDurationInYears = None  # v\n",
    "    __numberOfMatchesPlayed = None  # vi\n",
    "\n",
    "    # Getters\n",
    "\n",
    "    def __getPlayerName(self):\n",
    "        return self.__playerName\n",
    "\n",
    "    def __getPlayerNumber(self):\n",
    "        return self.__playerNumber\n",
    "\n",
    "    def __getPlayerSalaryPerWeek(self):\n",
    "        # print(self.__playerSalaryPerWeek)\n",
    "        return self.__playerSalaryPerWeek\n",
    "\n",
    "    def __getSigningDate(self):\n",
    "        return self.__signingDate\n",
    "\n",
    "    def __getContractDurationInYears(self):\n",
    "        return self.__contractDurationInYears\n",
    "\n",
    "    def __getNumberOfMatchesPlayed(self):\n",
    "        return self.__numberOfMatchesPlayed\n",
    "\n",
    "    def __getAllInfo(self):\n",
    "        return self.__playerName, \\\n",
    "            self.__playerNumber, \\\n",
    "            self.__playerSalaryPerWeek, \\\n",
    "            self.__signingDate, \\\n",
    "            self.__contractDurationInYears, \\\n",
    "            self.__numberOfMatchesPlayed\n",
    "\n",
    "    # Setters\n",
    "\n",
    "    def __setPlayerName(self, i):\n",
    "        self.__playerName = i\n",
    "\n",
    "    def __setPlayerNumber(self, ii):\n",
    "        if ii <= 30:\n",
    "            self.__playerNumber = ii\n",
    "            print('playerNumber ', ii)\n",
    "        else:\n",
    "            print(\"Player Number shouldn’t exceed 3\")\n",
    "\n",
    "    def __setPlayerSalaryPerWeek(self, iii):\n",
    "        if iii <= 100000:\n",
    "            self.__playerSalaryPerWeek = iii\n",
    "            print('playerSalaryPerWeek ', iii)\n",
    "        else:\n",
    "            print(\"Player Salary per week shouldn’t exceed 100,000\")\n",
    "\n",
    "    def __setContractDurationInYears(self, v):\n",
    "        if v <= 5:\n",
    "            self.__contractDurationInYears = v\n",
    "            print(\"contractDurationInYears \", v)\n",
    "        else:\n",
    "            print(\"Max contract duration is 5 Years\")\n",
    "\n",
    "    def __setNumberOfMatchesPlayed(self, vi):\n",
    "        self.__numberOfMatchesPlayed = vi\n",
    "\n",
    "    # Deleters\n",
    "    def __deletePlayerName(self):\n",
    "        del self.__playerName\n",
    "\n",
    "    def __deletePlayerNumber(self):\n",
    "        del self.__playerNumber\n",
    "\n",
    "    def __deletePlayerSalaryPerWeek(self):\n",
    "        del self.__playerSalaryPerWeek\n",
    "\n",
    "    def __deleteContractDurationInYears(self):\n",
    "        del self.__contractDurationInYears\n",
    "\n",
    "    def __deleteNumberOfMatchesPlayed(self):\n",
    "        del self.__numberOfMatchesPlayed\n",
    "\n",
    "    #Encapsulation / Proberty\n",
    "    playerName = property(__getPlayerName, __setPlayerName, __deletePlayerName)\n",
    "    playerNumber = property(\n",
    "        __getPlayerNumber, __setPlayerNumber, __deletePlayerNumber)\n",
    "    playerSalaryPerWeek = property(\n",
    "        __getPlayerSalaryPerWeek, __setPlayerSalaryPerWeek, __deletePlayerSalaryPerWeek)\n",
    "    playerSigningDate = property(__getSigningDate)\n",
    "    playerContractDurationInYears = property(\n",
    "        __getContractDurationInYears, __setContractDurationInYears, __deleteContractDurationInYears)\n",
    "    playerNumberOfMatchesPlayed = property(\n",
    "        __getNumberOfMatchesPlayed, __setNumberOfMatchesPlayed, __deleteNumberOfMatchesPlayed)\n",
    "    player1stAllInfo = property(__getAllInfo)\n",
    "\n",
    "    def __init__(self, i, ii, iii, iv, v, vi):\n",
    "        self.__setPlayerName(i)\n",
    "        self.__setPlayerNumber(ii)\n",
    "        self.__setPlayerSalaryPerWeek(iii)\n",
    "        self.__signingDate = datetime.datetime.strptime(\n",
    "            str(iv), \"%Y-%m-%d\").strftime('%Y-%m-%d')\n",
    "        self.__setContractDurationInYears(v)\n",
    "        self.__setNumberOfMatchesPlayed(vi)\n",
    "\n",
    "    # abstract fun\n",
    "    def printPlayerData(self):\n",
    "        return self.__getAllInfo()\n",
    "\n",
    "    def calcSalaryPerYear(self):\n",
    "        return self.playerSalaryPerWeek * 4*12\n",
    "\n",
    "    # calcRemainingDuration(): return remaining duration of the player in days\n",
    "    # Remaining duration(in weeks) = the date (now) – signing data\n",
    "    def calcRemainingDuration(self):\n",
    "        d1 = datetime.datetime.strptime(self.playerSigningDate, '%Y-%m-%d')\n",
    "        d2 = datetime.datetime.today()\n",
    "        print(d2-d1)\n",
    "        if (self.playerContractDurationInYears*12*30)-(d2-d1).days > 0:\n",
    "            return (self.playerContractDurationInYears * 52)-((d2 - d1).days/7)\n",
    "        else:\n",
    "            return -1\n"
   ]
  },
  {
   "cell_type": "code",
   "execution_count": 143,
   "metadata": {},
   "outputs": [
    {
     "name": "stdout",
     "output_type": "stream",
     "text": [
      "playerNumber  11\n",
      "playerSalaryPerWeek  1000\n",
      "contractDurationInYears  3\n",
      "350 days, 1:09:39.980571\n"
     ]
    },
    {
     "data": {
      "text/plain": [
       "106.0"
      ]
     },
     "execution_count": 143,
     "metadata": {},
     "output_type": "execute_result"
    }
   ],
   "source": [
    "p1 = player('Salah',11,1000,'2021-02-22',3,27)\n",
    "p1.printPlayerData()\n",
    "p1.calcSalaryPerYear()\n",
    "p1.calcRemainingDuration()"
   ]
  },
  {
   "cell_type": "markdown",
   "metadata": {},
   "source": [
    "3. **Team captain Class:**\n",
    "- Team class inherits Player Class.\n",
    "- Additional private Fields:\n",
    "1. Leading Matches: (number of matches played as a\n",
    "team captain)\n",
    "2. Bonus\n",
    "> All private fields should have (setter, getter, delete, Property)\n",
    "- These are some constrains that should be implemented in the setters and getters:\n",
    "1. Bonus shouldn’t exceed 100,000\n",
    "2. Leading Matches is read only (No setter)\n",
    "- Parametrized constructor with initial values that support constructor over loading.\n",
    ">Notes:\n",
    ">  1. Obligatory fields (must be entered via constructor)\n",
    ">    (Player Name -Player Number - Signing Date)\n",
    "- Optional fields:\n",
    "1. Salary per week = 20,000\n",
    "2. contract duration in years = 3\n",
    "3. number of matches played = 0\n",
    "4. Bonus = 5000\n",
    "5. Leading Matches = 10\n",
    "- The class overrides the 2 functions of the Player Class as follows:\n",
    "1. printPlayerData(): print all the private fields (it will\n",
    "print the additional fields of the team captain and the fields from the player (Parent Class)).\n",
    "2. calcSalaryPerYear(): return the total salary of the\n",
    "player per Year total salary per year = weekly salary * 4 * 12 + Bonus\n",
    "- The class has additional functions:\n",
    "- increamentLeadingMtaches(): this function add +1 to the Leading Matches field.\n",
    "- Overload the “+” built in operator:\n",
    "When two players are added => it should return the summation of their salaries."
   ]
  },
  {
   "cell_type": "code",
   "execution_count": 144,
   "metadata": {},
   "outputs": [],
   "source": [
    "#3\n",
    "class teamCaptain(player):\n",
    "    __leadingMatches = None\n",
    "    __bonus = None\n",
    "\n",
    "    # Setters\n",
    "    # def __setLeadingMatches(self,i):\n",
    "    #     self.__leadingMatches = i\n",
    "\n",
    "    def __setBonus(self, ii):\n",
    "        if ii <= 100000:\n",
    "            self.__bonus = ii\n",
    "            print('playerSalaryPerWeek ', ii)\n",
    "        else:\n",
    "            print(\"Captain Bonus shouldn’t exceed 100,000\")\n",
    "\n",
    "    # Getters\n",
    "    def __getLeadingMatches(self):\n",
    "        return self.__leadingMatches\n",
    "\n",
    "    def __getBonus(self):\n",
    "        return self.__bonus\n",
    "\n",
    "    # Deleter\n",
    "    def __deleteLeadingMatches(self):\n",
    "        del self.__leadingMatches\n",
    "\n",
    "    def __deleteBonus(self):\n",
    "        del self.__bonus\n",
    "    LeadingMatches = property(__getLeadingMatches, __deleteLeadingMatches)\n",
    "    Bonus = property(__getBonus, __setBonus, __deleteBonus)\n",
    "\n",
    "    def __init__(self, i, ii, iii, iv, v, vi,leadMatches=10,bonus=5000):\n",
    "        # super().__init__(i, ii, iii, iv, v, vi)\n",
    "        player.__init__(self, i, ii, iii, iv, v, vi)\n",
    "        self.__leadingMatches = leadMatches\n",
    "        self.__setBonus(bonus)\n",
    "\n",
    "    def printPlayerData(self):\n",
    "        return self.player1stAllInfo + (self.__leadingMatches,self.__bonus,)\n",
    "\n",
    "    def calcSalaryPerYear(self):\n",
    "        return (self.playerSalaryPerWeek * 4 * 12) + self.__bonus\n",
    "\n",
    "    def calcRemainingDuration(self):\n",
    "        player.calcRemainingDuration(self)"
   ]
  },
  {
   "cell_type": "code",
   "execution_count": 145,
   "metadata": {},
   "outputs": [
    {
     "name": "stdout",
     "output_type": "stream",
     "text": [
      "playerNumber  11\n",
      "playerSalaryPerWeek  1000\n",
      "contractDurationInYears  3\n",
      "playerSalaryPerWeek  5000\n"
     ]
    }
   ],
   "source": [
    "p1 = teamCaptain('Salah',11,1000,'2021-02-22',3,27,18,5000)"
   ]
  },
  {
   "cell_type": "code",
   "execution_count": 146,
   "metadata": {},
   "outputs": [
    {
     "data": {
      "text/plain": [
       "5000"
      ]
     },
     "execution_count": 146,
     "metadata": {},
     "output_type": "execute_result"
    }
   ],
   "source": [
    "p1.LeadingMatches\n",
    "p1.Bonus"
   ]
  },
  {
   "cell_type": "code",
   "execution_count": 147,
   "metadata": {},
   "outputs": [
    {
     "data": {
      "text/plain": [
       "('Salah', 11, 1000, '2021-02-22', 3, 27, 18, 5000)"
      ]
     },
     "execution_count": 147,
     "metadata": {},
     "output_type": "execute_result"
    }
   ],
   "source": [
    "p1.printPlayerData()"
   ]
  },
  {
   "cell_type": "code",
   "execution_count": 148,
   "metadata": {},
   "outputs": [
    {
     "data": {
      "text/plain": [
       "53000"
      ]
     },
     "execution_count": 148,
     "metadata": {},
     "output_type": "execute_result"
    }
   ],
   "source": [
    "p1.calcSalaryPerYear()"
   ]
  },
  {
   "cell_type": "code",
   "execution_count": 149,
   "metadata": {},
   "outputs": [
    {
     "name": "stdout",
     "output_type": "stream",
     "text": [
      "350 days, 1:09:44.035993\n"
     ]
    }
   ],
   "source": [
    "p1.calcRemainingDuration()"
   ]
  },
  {
   "cell_type": "markdown",
   "metadata": {},
   "source": [
    "4. **Coach Class:**\n",
    "- Player Class inherits Member class.\n",
    "- Private Fields:\n",
    "1. Coach Name\n",
    "2. Coach Salary per week\n",
    "3. Signing Date\n",
    "4. contract duration in years\n",
    "5. Experience Years\n",
    "6. Bonus\n",
    ">Note: Signing Date will be as Date/time Data type(google it)\n",
    "> - c- All private fields should have (setter, getter, delete, Property)\n",
    "\n",
    "- >These are some constrains that should be implemented in the setters and getters:\n",
    "1. Coach Salary per week shouldn’t exceed 200,000\n",
    "2. Max contract duration is 3 Years.\n",
    "3. Signing Date is read only Field (No setter)\n",
    "4. Experience Years are read only field and it should be greater than or equal 8 years.\n",
    "5. Bonus shouldn’t exceed 50,000\n",
    "\n",
    "- Parametrized constructor with initial values that support\n",
    "constructor over loading.\n",
    ">Notes:\n",
    ">- Obligatory fields (must be entered via constructor)\n",
    ">- (Coach Name - Experience Years- Signing Date)\n",
    "- **Optional fields:**\n",
    "- Salary per week = 50,000\n",
    "- contract duration in years = 2\n",
    "- Bonus = 10,000\n",
    "- **The class overrides the 3 functions of the Member Class as follows:**\n",
    "1. printPlayerData(): print all the private fields.\n",
    "2. calcSalaryPerYear(): return the total salary of the player per Year total salary per year = weekly salary * 4 * 12 + bonus\n",
    "3. calcRemainingDuration(): return remaining duration of the player in days\n",
    "   - Remaining duration(in weeks) = the date (now) – signing data\n",
    ">- Note: use the data time now method (google it)\n",
    "- **The Coach class has additional functions:**\n",
    "1. IncreamentExperience Years(): this function increment\n",
    "the number of Experience Years by +1\n",
    "2. Add Bonus(value of bonus): this function receives the\n",
    "value of the bonus and assign it to the bonus field\n",
    "(replace the old bonus)."
   ]
  },
  {
   "cell_type": "code",
   "execution_count": 150,
   "metadata": {},
   "outputs": [],
   "source": [
    "# 4\n",
    "class coach(member):\n",
    "    __coachName = None\n",
    "    __coachSalaryPerWeek = None\n",
    "    __coachsigningDate = None  # Date/Time DataType\n",
    "    __coachContractDurationInYears = None \n",
    "    __coachExperienceYears = None\n",
    "    __coachBonus = None\n",
    "\n",
    "    # Getters\n",
    "\n",
    "    def __getCoachName(self):\n",
    "        return self.__coachName\n",
    "\n",
    "    def __getCoachSalaryPerWeek(self):\n",
    "        return self.__coachSalaryPerWeek\n",
    "\n",
    "    def __getCoachSigningDate(self):\n",
    "        return self.__coachsigningDate\n",
    "\n",
    "    def __getCoachContractDurationInYears(self):\n",
    "        return self.__coachContractDurationInYears\n",
    "\n",
    "    def __getCoachExperienceYears(self):\n",
    "        return self.__coachExperienceYears\n",
    "\n",
    "    def __getCoachBonus(self):\n",
    "        return self.__coachBonus\n",
    "\n",
    "    def __getCoachAllInfo(self):\n",
    "        return self.__coachName, \\\n",
    "            self.__coachSalaryPerWeek, \\\n",
    "            self.__coachsigningDate, \\\n",
    "            self.__coachContractDurationInYears, \\\n",
    "            self.__coachExperienceYears, \\\n",
    "            self.__coachBonus\n",
    "\n",
    "    # Setters\n",
    "\n",
    "    def __setCoachName(self, cName):\n",
    "        self.__coachName = cName\n",
    "\n",
    "    def __setCoachSalaryPerWeek(self, cSalaryweek):\n",
    "        if cSalaryweek <= 200000:\n",
    "            self.__coachSalaryPerWeek = cSalaryweek\n",
    "            print('CoachSalaryPerWeek ', cSalaryweek)\n",
    "        else:\n",
    "            print(\"Player Salary per week shouldn’t exceed 200,000\")\n",
    "\n",
    "    def __setCoachContractDurationInYears(self, v):\n",
    "        if v <= 3:\n",
    "            self.__coachContractDurationInYears = v\n",
    "            print(\"contractDurationInYears \", v)\n",
    "        else:\n",
    "            print(\"it should be greater than or equal 3 years\")\n",
    "    \n",
    "    def __setCoachExperienceYears(self,cExpInYears):\n",
    "        if cExpInYears >= 8:\n",
    "            self.__coachExperienceYears = cExpInYears\n",
    "            print(\"Coach Experience Years \", cExpInYears)\n",
    "        else:\n",
    "            print(\"it should be greater than or equal 8 years\")\n",
    "\n",
    "    def __setCoachBonus(self,coachBonus):\n",
    "        if coachBonus <= 50000:\n",
    "            self.__coachBonus = coachBonus\n",
    "            print('Coach Bonus ', coachBonus)\n",
    "        else:\n",
    "            print(\"Coach Bonus shouldn’t exceed 50,000\")\n",
    "        \n",
    "\n",
    "    # Deleters\n",
    "    def __delCoachName(self):\n",
    "        del self.__coachName\n",
    "\n",
    "    def __delCoachSalaryPerWeek(self):\n",
    "        del self.__coachSalaryPerWeek\n",
    "\n",
    "    def __delCoachSigningDate(self): # Don't know add it as property or not\n",
    "        del self.__coachsigningDate\n",
    "\n",
    "    def __delCoachContractDurationInYears(self):\n",
    "        del self.__coachContractDurationInYears\n",
    "\n",
    "    def __delCoachExperienceYears(self):\n",
    "        del self.__coachExperienceYears\n",
    "\n",
    "    def __delCoachBonus(self):\n",
    "        del self.__coachBonus\n",
    "\n",
    "    #Encapsulation / Proberty\n",
    "    coachName = property(__getCoachName, __setCoachName, __delCoachName)\n",
    "    coachSalaryPerWeek = property(__getCoachSalaryPerWeek, __setCoachSalaryPerWeek, __delCoachSalaryPerWeek)\n",
    "    coachSigningDate = property(__getCoachSigningDate)\n",
    "    coachContractDurationInYears = property(__getCoachContractDurationInYears,__setCoachContractDurationInYears,__delCoachContractDurationInYears)\n",
    "    coachExperienceYears = property(__getCoachExperienceYears, __setCoachExperienceYears, __delCoachExperienceYears)\n",
    "    coachBonus = property(__getCoachBonus, __setCoachBonus, __delCoachBonus)\n",
    "    player1stAllInfo = property(__getCoachAllInfo)\n",
    "\n",
    "    def __init__(self, i, ii, iii, iv, v, vi):\n",
    "        self.__setCoachName(i)\n",
    "        self.__setCoachSalaryPerWeek(ii)\n",
    "        self.__coachsigningDate = datetime.datetime.strptime(\n",
    "            str(iii), \"%Y-%m-%d\").strftime('%Y-%m-%d')\n",
    "        self.__setCoachContractDurationInYears(iv)\n",
    "        self.__setCoachExperienceYears(v)\n",
    "        self.__setCoachBonus(vi)\n",
    "\n",
    "\n",
    "    # abstract fun\n",
    "    def printPlayerData(self):\n",
    "        return self.__getCoachAllInfo()\n",
    "\n",
    "    def calcSalaryPerYear(self):\n",
    "        return self.coachSalaryPerWeek * 4*12\n",
    "\n",
    "    def calcRemainingDuration(self):\n",
    "        d1 = datetime.datetime.strptime(self.coachSigningDate, '%Y-%m-%d')\n",
    "        d2 = datetime.datetime.today()\n",
    "        print(d2-d1)\n",
    "        if (self.coachContractDurationInYears*12*30)-(d2-d1).days > 0:\n",
    "            return (self.coachContractDurationInYears * 52)-((d2 - d1).days/7)\n",
    "        else:\n",
    "            return -1\n"
   ]
  },
  {
   "cell_type": "code",
   "execution_count": 151,
   "metadata": {},
   "outputs": [
    {
     "name": "stdout",
     "output_type": "stream",
     "text": [
      "CoachSalaryPerWeek  10000\n",
      "contractDurationInYears  3\n",
      "Coach Experience Years  10\n",
      "Coach Bonus  1000\n"
     ]
    }
   ],
   "source": [
    "c1 = coach('MJ',10000,'2021-02-22',3,10,1000)"
   ]
  },
  {
   "cell_type": "code",
   "execution_count": 152,
   "metadata": {},
   "outputs": [
    {
     "data": {
      "text/plain": [
       "('MJ', 10000, '2021-02-22', 3, 10, 1000)"
      ]
     },
     "execution_count": 152,
     "metadata": {},
     "output_type": "execute_result"
    }
   ],
   "source": [
    "c1.printPlayerData()"
   ]
  },
  {
   "cell_type": "code",
   "execution_count": 153,
   "metadata": {},
   "outputs": [
    {
     "data": {
      "text/plain": [
       "480000"
      ]
     },
     "execution_count": 153,
     "metadata": {},
     "output_type": "execute_result"
    }
   ],
   "source": [
    "c1.calcSalaryPerYear()"
   ]
  },
  {
   "cell_type": "code",
   "execution_count": 154,
   "metadata": {},
   "outputs": [
    {
     "name": "stdout",
     "output_type": "stream",
     "text": [
      "350 days, 1:09:48.069212\n"
     ]
    },
    {
     "data": {
      "text/plain": [
       "106.0"
      ]
     },
     "execution_count": 154,
     "metadata": {},
     "output_type": "execute_result"
    }
   ],
   "source": [
    "c1.calcRemainingDuration()"
   ]
  },
  {
   "cell_type": "markdown",
   "metadata": {},
   "source": [
    "5. **Team Class:**\n",
    "- Private Fields:\n",
    "1. Team Name\n",
    "2. Team Position in League\n",
    "3. Coach (it will be a coach object)\n",
    "4. PlayersList (it is a list of players)\n",
    "5. Team Captain (it is a Team Captain object)\n",
    "6. Number of Players\n",
    ">- All private fields should have (setter, getter, delete, Property)\n",
    ">- The only condition is that the Number of Players is read only.\n",
    "- Parametrized constructor with initial values that support constructor over loading.\n",
    "> Notes:\n",
    ">   - Obligatory fields (must be entered via constructor)\n",
    ">   - (Team Name - Team Position in League -Coach)\n",
    ">   - initial fields (not entered by user during creating the team object)( it will have the following initial values):\n",
    ">   - number of players = 0\n",
    ">   - playersList = [] (empty List)\n",
    ">   - Team Captain = None\n",
    "- **The team class has the following functions:**\n",
    "1. printTeamData(self):\n",
    "   - this function will print the whole team data.\n",
    "2. printCaptainInfo(self):\n",
    "   - this function print the captain information only\n",
    "3. add player(self, Player Name, Player Number, Player Salary per week, Signing Date, contract duration in years, number of matches played).\n",
    "   - first search if the player number is already exists or not.\n",
    "   - If the player number is already exist in the team => print (“change the player number”)\n",
    "   - Else => create a Player object with the given data\n",
    "   - Add this player object to the Players List.\n",
    "   - Increase the Number of Players by +1\n",
    "   - Call modify the captain function to update the team captain ( the next function)\n",
    "4. modifyTheCaptain(self,bonus,NumberOfMatches played as a captain):\n",
    "   - this function will search the Players list with player with largest number of matches played.\n",
    "   - Take this player information from step a in addition to the bonus and NumberOfMatches played as a captain and create a Team Captain object using these data.\n",
    "   - Assign the Team captain object from b to the Team captain field in the Team class.\n",
    "5. Delete player(self, player number):\n",
    "   - This function will delete the player with the given number in the function from the players list.\n",
    "   - Decrease the players number by -1\n",
    "   - If the player is not found => print “ no player exists with the given number”\n",
    "6. Search Player(self, player number):\n",
    "   - This function receive the player and print the whole data of the player if he is found in the team.\n",
    "7. calcAllSalary(self):\n",
    "   - this function returns the summation of all the players salary + coach salary.\n",
    "    > - Note: you can use the “+” built in operator that us implemented in the player class.\n",
    "8. overload the built in __len__ function:\n",
    "   - this function will return the number of players.\n",
    "9. Overload the indexer (Read Only Indexer) teamObject[ given Player number] => print the player data this indexer is read only => it will take the player number.\n",
    "if the player is found it will print his whole data and return its name."
   ]
  }
 ],
 "metadata": {
  "interpreter": {
   "hash": "c2c3639f316740832002486dd26ba6b6250f1d86931da03b63eb8e91805d4fe1"
  },
  "kernelspec": {
   "display_name": "Python 3.9.2 64-bit",
   "language": "python",
   "name": "python3"
  },
  "language_info": {
   "codemirror_mode": {
    "name": "ipython",
    "version": 3
   },
   "file_extension": ".py",
   "mimetype": "text/x-python",
   "name": "python",
   "nbconvert_exporter": "python",
   "pygments_lexer": "ipython3",
   "version": "3.9.2"
  },
  "orig_nbformat": 4
 },
 "nbformat": 4,
 "nbformat_minor": 2
}
