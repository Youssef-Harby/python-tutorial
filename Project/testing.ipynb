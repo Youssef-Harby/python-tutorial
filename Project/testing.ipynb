{
 "cells": [
  {
   "cell_type": "code",
   "execution_count": 52,
   "metadata": {},
   "outputs": [],
   "source": [
    "import abc\n",
    "import datetime\n",
    "# 1\n",
    "# The class member is an abstract class.\n",
    "# The class member has three abstract methods: printPlayerData, calcSalaryPerYear, and\n",
    "# calcRemainingDuration.\n",
    "\n",
    "\n",
    "class member(metaclass=abc.ABCMeta):\n",
    "    @abc.abstractclassmethod\n",
    "    def printPlayerData(self):\n",
    "        pass\n",
    "\n",
    "    def calcSalaryPerYear(self):\n",
    "        pass\n",
    "\n",
    "    def calcRemainingDuration(self):\n",
    "        pass\n",
    "# 2\n",
    "\n",
    "\n",
    "class player(member):\n",
    "    __playerName = None  # i\n",
    "    __playerNumber = None  # ii\n",
    "    __playerSalaryPerWeek = None  # iii\n",
    "    __signingDate = None  # iv - Date/Time DataType \n",
    "    __contractDurationInYears = None  # v\n",
    "    __numberOfMatchesPlayed = None  # vi\n",
    "\n",
    "    #Getters\n",
    "\n",
    "    def __getPlayerName(self):\n",
    "        return self.__playerName\n",
    "\n",
    "    def __getPlayerNumber(self):\n",
    "        return self.__playerNumber\n",
    "\n",
    "    def __getPlayerSalaryPerWeek(self):\n",
    "        # print(self.__playerSalaryPerWeek)\n",
    "        return self.__playerSalaryPerWeek\n",
    "\n",
    "    def __getSigningDate(self):\n",
    "        return self.__signingDate\n",
    "\n",
    "    def __getContractDurationInYears(self):\n",
    "        return self.__contractDurationInYears\n",
    "\n",
    "    def __getNumberOfMatchesPlayed(self):\n",
    "        return self.__numberOfMatchesPlayed\n",
    "\n",
    "    def __getAllInfo(self):\n",
    "        return self.__playerName, \\\n",
    "            self.__playerNumber, \\\n",
    "            self.__playerSalaryPerWeek, \\\n",
    "            self.__signingDate, \\\n",
    "            self.__contractDurationInYears, \\\n",
    "            self.__numberOfMatchesPlayed\n",
    "\n",
    "    #Setters\n",
    "\n",
    "    def __setPlayerName(self,i):\n",
    "        self.__playerName = i\n",
    "\n",
    "    def __setPlayerNumber(self,ii):\n",
    "        if ii <= 30:\n",
    "            self.__playerNumber = ii\n",
    "            print('playerNumber ',ii)\n",
    "        else:\n",
    "            print(\"Player Number shouldn’t exceed 3\")\n",
    "\n",
    "    def __setPlayerSalaryPerWeek(self,iii):\n",
    "        if iii <= 100000:\n",
    "            self.__playerSalaryPerWeek = iii\n",
    "            print('playerSalaryPerWeek ',iii)\n",
    "        else:\n",
    "            print(\"Player Salary per week shouldn’t exceed 100,000\")\n",
    "\n",
    "    def __setContractDurationInYears(self,v):\n",
    "        if v <= 5:\n",
    "            self.__contractDurationInYears = v\n",
    "            print(\"contractDurationInYears \", v)\n",
    "        else:\n",
    "            print(\"Max contract duration is 5 Years\")\n",
    "\n",
    "    def __setNumberOfMatchesPlayed(self,vi):\n",
    "        self.__numberOfMatchesPlayed = vi\n",
    "\n",
    "    # def __setAllInfo(self, i, ii, iii, iv, v, vi):\n",
    "    #     self.__setPlayerName(i)\n",
    "    #     self.__setPlayerNumber(ii)\n",
    "    #     self.__setPlayerSalaryPerWeek(iii)\n",
    "    #     self.__signingDate = iv #######################################\n",
    "    #     self.__setContractDurationInYears(v)\n",
    "    #     self.__setNumberOfMatchesPlayed(vi)\n",
    "\n",
    "    # Deleters\n",
    "    def __deletePlayerName(self):\n",
    "        del self.__playerName\n",
    "\n",
    "    def __deletePlayerNumber(self):\n",
    "        del self.__playerNumber\n",
    "\n",
    "    def __deletePlayerSalaryPerWeek(self):\n",
    "        del self.__playerSalaryPerWeek\n",
    "\n",
    "    def __deleteContractDurationInYears(self):\n",
    "        del self.__contractDurationInYears\n",
    "\n",
    "    def __deleteNumberOfMatchesPlayed(self):\n",
    "        del self.__numberOfMatchesPlayed\n",
    "\n",
    "    #Encapsulation / Proberty\n",
    "    playerName= property(__getPlayerName,__setPlayerName,__deletePlayerName)\n",
    "    playerNumber= property(__getPlayerNumber,__setPlayerNumber,__deletePlayerNumber)\n",
    "    playerSalaryPerWeek= property(__getPlayerSalaryPerWeek,__setPlayerSalaryPerWeek,__deletePlayerSalaryPerWeek)\n",
    "    playerSigningDate= property(__getSigningDate)\n",
    "    playerContractDurationInYears= property(__getContractDurationInYears,__setContractDurationInYears,__deleteContractDurationInYears)\n",
    "    playerNumberOfMatchesPlayed= property(__getNumberOfMatchesPlayed,__setNumberOfMatchesPlayed,__deleteNumberOfMatchesPlayed)\n",
    "\n",
    "    def __init__(self, i, ii, iii, iv, v, vi):\n",
    "        # self.__setAllInfo(i, ii, iii, iv, v, vi)\n",
    "        self.__setPlayerName(i)\n",
    "        self.__setPlayerNumber(ii)\n",
    "        self.__setPlayerSalaryPerWeek(iii)\n",
    "        self.__signingDate = datetime.datetime.strptime(str(iv), \"%Y-%m-%d\").strftime('%Y-%m-%d')\n",
    "        # print('########',iv,self.__signingDate)\n",
    "        self.__setContractDurationInYears(v)\n",
    "        self.__setNumberOfMatchesPlayed(vi)\n",
    "\n",
    "    # abstract fun\n",
    "    def printPlayerData(self):\n",
    "        # print(self.__getAllInfo())\n",
    "        return self.__getAllInfo()\n",
    "\n",
    "    def calcSalaryPerYear(self):\n",
    "        return self.playerSalaryPerWeek *4*12\n",
    "\n",
    "    # calcRemainingDuration(): return remaining duration of the player in days \n",
    "    # Remaining duration(in weeks) = the date (now) – signing data\n",
    "    def calcRemainingDuration(self):\n",
    "        d1 = datetime.datetime.strptime(self.playerSigningDate,'%Y-%m-%d')\n",
    "        d2 = datetime.datetime.today()\n",
    "        print(d2-d1)\n",
    "        if (self.playerContractDurationInYears*12*30)-(d2-d1).days > 0:\n",
    "            return (self.playerContractDurationInYears * 52)-((d2 - d1).days/7)\n",
    "        else:\n",
    "            return -1\n",
    "\n",
    "class teamCaptain(player):\n",
    "    __leadingMatches = None\n",
    "    __bonus = None\n",
    "\n",
    "    #Setters\n",
    "    # def __setLeadingMatches(self,i):\n",
    "    #     self.__leadingMatches = i\n",
    "    def __setBonus(self,gg):\n",
    "        if gg <= 100000:\n",
    "            self.__bonus = gg\n",
    "            print('playerSalaryPerWeek ',gg)\n",
    "        else:\n",
    "            print(\"Captain Bonus shouldn’t exceed 100,000\")\n",
    "        \n",
    "    #Getters\n",
    "    def __getLeadingMatches(self):\n",
    "        return self.__leadingMatches\n",
    "    def __getBouns(self):\n",
    "        return self.__bonus\n",
    "    #Deleter\n",
    "    def __deleteLeadingMatches(self):\n",
    "        del self.__leadingMatches\n",
    "    def __deleteBouns(self):\n",
    "        del self.__bonus\n",
    "    LeadingMatches = property(__getLeadingMatches,__deleteLeadingMatches)\n",
    "    Bouns = property(__setBonus,__getBouns,__deleteBouns)\n",
    "\n",
    "    def __init__(self,i=10,ii=5000):\n",
    "        self.__leadingMatches = i\n",
    "        print()\n",
    "        self.__setBonus(ii)\n",
    "\n",
    "    def printPlayerData(self):\n",
    "        print(self.__getAllInfo(),self.__leadingMatches,self.__bonus)\n",
    "        return self.__getAllInfo(),self.__leadingMatches,self.__bonus\n",
    "\n",
    "    def calcSalaryPerYear(self):\n",
    "        return (self.playerSalaryPerWeek *4*12) + self.__bonus\n",
    "\n",
    "    def calcRemainingDuration(self):\n",
    "        pass\n"
   ]
  },
  {
   "cell_type": "code",
   "execution_count": 53,
   "metadata": {},
   "outputs": [
    {
     "name": "stdout",
     "output_type": "stream",
     "text": [
      "playerNumber  11\n",
      "playerSalaryPerWeek  1000\n",
      "contractDurationInYears  3\n",
      "-382 days, 1:58:15.753286\n"
     ]
    },
    {
     "data": {
      "text/plain": [
       "210.57142857142856"
      ]
     },
     "execution_count": 53,
     "metadata": {},
     "output_type": "execute_result"
    }
   ],
   "source": [
    "p1 = player('Salah',11,1000,'2023-02-22',3,27)\n",
    "p1.printPlayerData()\n",
    "p1.playerSigningDate\n",
    "p1.calcRemainingDuration()"
   ]
  },
  {
   "cell_type": "code",
   "execution_count": 61,
   "metadata": {},
   "outputs": [
    {
     "name": "stdout",
     "output_type": "stream",
     "text": [
      "\n",
      "playerSalaryPerWeek  40\n"
     ]
    },
    {
     "data": {
      "text/plain": [
       "20"
      ]
     },
     "execution_count": 61,
     "metadata": {},
     "output_type": "execute_result"
    }
   ],
   "source": [
    "p3 = teamCaptain(20,40)\n",
    "p3.LeadingMatches"
   ]
  },
  {
   "cell_type": "code",
   "execution_count": 62,
   "metadata": {},
   "outputs": [
    {
     "ename": "TypeError",
     "evalue": "__setBonus() missing 1 required positional argument: 'gg'",
     "output_type": "error",
     "traceback": [
      "\u001b[1;31m---------------------------------------------------------------------------\u001b[0m",
      "\u001b[1;31mTypeError\u001b[0m                                 Traceback (most recent call last)",
      "\u001b[1;32m~\\AppData\\Local\\Temp\\ipykernel_17048\\1573160392.py\u001b[0m in \u001b[0;36m<module>\u001b[1;34m\u001b[0m\n\u001b[1;32m----> 1\u001b[1;33m \u001b[0mp3\u001b[0m\u001b[1;33m.\u001b[0m\u001b[0mBouns\u001b[0m\u001b[1;33m\u001b[0m\u001b[1;33m\u001b[0m\u001b[0m\n\u001b[0m",
      "\u001b[1;31mTypeError\u001b[0m: __setBonus() missing 1 required positional argument: 'gg'"
     ]
    }
   ],
   "source": [
    "p3.Bouns"
   ]
  }
 ],
 "metadata": {
  "interpreter": {
   "hash": "c2c3639f316740832002486dd26ba6b6250f1d86931da03b63eb8e91805d4fe1"
  },
  "kernelspec": {
   "display_name": "Python 3.9.2 64-bit",
   "language": "python",
   "name": "python3"
  },
  "language_info": {
   "codemirror_mode": {
    "name": "ipython",
    "version": 3
   },
   "file_extension": ".py",
   "mimetype": "text/x-python",
   "name": "python",
   "nbconvert_exporter": "python",
   "pygments_lexer": "ipython3",
   "version": "3.9.2"
  },
  "orig_nbformat": 4
 },
 "nbformat": 4,
 "nbformat_minor": 2
}
