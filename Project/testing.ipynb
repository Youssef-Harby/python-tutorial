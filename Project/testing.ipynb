{
 "cells": [
  {
   "cell_type": "markdown",
   "metadata": {},
   "source": [
    "## Python OOP Project"
   ]
  },
  {
   "cell_type": "markdown",
   "metadata": {},
   "source": [
    "1. **Member Class:**\n",
    "- This class is an abstract class.\n",
    "- It has only 3 abstract methods (empty methods contains\n",
    "pass):\n",
    "1. printPlayerData()\n",
    "2. calcSalaryPerYear()\n",
    "3. calcRemainingDuration()"
   ]
  },
  {
   "cell_type": "code",
   "execution_count": null,
   "metadata": {},
   "outputs": [],
   "source": [
    "import abc\n",
    "import datetime\n",
    "# 1\n",
    "# The class member is an abstract class.\n",
    "# The class member has three abstract methods: printPlayerData, calcSalaryPerYear, and\n",
    "# calcRemainingDuration.\n",
    "\n",
    "\n",
    "class member(metaclass=abc.ABCMeta):\n",
    "    @abc.abstractclassmethod\n",
    "    def printPlayerData(self):\n",
    "        pass\n",
    "\n",
    "    def calcSalaryPerYear(self):\n",
    "        pass\n",
    "\n",
    "    def calcRemainingDuration(self):\n",
    "        pass"
   ]
  },
  {
   "cell_type": "markdown",
   "metadata": {},
   "source": [
    "2. **Player Class:**\n",
    "- Player Class inherits Member class.\n",
    "- Private Fields:\n",
    "1. Player Name\n",
    "2. Player Number\n",
    "3. Player Salary per week\n",
    "4. Signing Date\n",
    "5. contract duration in years,\n",
    "6. number of matches played\n",
    ">- Note: Signing Date will be as Date/time Data type(google it)\n",
    ">- c- All private fields should have (setter, getter, delete,Property)\n",
    "\n",
    "These are some constrains that should be implemented in the setters and getters:\n",
    "\n",
    "1. Player Number shouldn’t exceed 30.\n",
    "2. Player Salary per week shouldn’t exceed 100,000\n",
    "3. Max contract duration is 5 Years.\n",
    "4. Signing Date is read only Fields (No setter)\n",
    "5. Parametrized constructor with initial values that support constructor over loading.\n",
    ">Notes:\n",
    ">- Obligatory fields (must be entered via constructor)\n",
    ">-(Player Name -Player Number - Signing Date)\n",
    "- Optional fields:\n",
    "- Salary per week = 20,000\n",
    "- contract duration in years = 3\n",
    "- number of matches played = 0\n",
    ">Note: User will enter the values via constructor and these entered values will be assigned to the private fields of the class via Properties/setters/getters\n",
    "- The class overrides the 3 functions of the Member\n",
    "- Class as follows:\n",
    "1. printPlayerData(): print all the private fields.\n",
    "2. calcSalaryPerYear(): return the total salary of the player per Year\n",
    "    - total salary per year = weekly salary * 4 * 12\n",
    "3. calcRemainingDuration(): return remaining duration of the player in days\n",
    "    - Remaining duration(in weeks) = the date (now) – signing data\n",
    "\n",
    "> Note: use the data time now method (google it)\n",
    "- The Player class has the following additional functions:\n",
    "1. IncreamentMatches(): This functions will add +1 to the number of matches played.\n",
    "2. increamentContractDutarion (number of additional years): this function receives the number of additional years and adds it to (contract duration in years)"
   ]
  },
  {
   "cell_type": "code",
   "execution_count": 109,
   "metadata": {},
   "outputs": [],
   "source": [
    "# 2\n",
    "class player(member):\n",
    "    __playerName = None  # i\n",
    "    __playerNumber = None  # ii\n",
    "    __playerSalaryPerWeek = None  # iii\n",
    "    __signingDate = None  # iv - Date/Time DataType\n",
    "    __contractDurationInYears = None  # v\n",
    "    __numberOfMatchesPlayed = None  # vi\n",
    "\n",
    "    # Getters\n",
    "\n",
    "    def __getPlayerName(self):\n",
    "        return self.__playerName\n",
    "\n",
    "    def __getPlayerNumber(self):\n",
    "        return self.__playerNumber\n",
    "\n",
    "    def __getPlayerSalaryPerWeek(self):\n",
    "        # print(self.__playerSalaryPerWeek)\n",
    "        return self.__playerSalaryPerWeek\n",
    "\n",
    "    def __getSigningDate(self):\n",
    "        return self.__signingDate\n",
    "\n",
    "    def __getContractDurationInYears(self):\n",
    "        return self.__contractDurationInYears\n",
    "\n",
    "    def __getNumberOfMatchesPlayed(self):\n",
    "        return self.__numberOfMatchesPlayed\n",
    "\n",
    "    def __getAllInfo(self):\n",
    "        return self.__playerName, \\\n",
    "            self.__playerNumber, \\\n",
    "            self.__playerSalaryPerWeek, \\\n",
    "            self.__signingDate, \\\n",
    "            self.__contractDurationInYears, \\\n",
    "            self.__numberOfMatchesPlayed\n",
    "\n",
    "    # Setters\n",
    "\n",
    "    def __setPlayerName(self, i):\n",
    "        self.__playerName = i\n",
    "\n",
    "    def __setPlayerNumber(self, ii):\n",
    "        if ii <= 30:\n",
    "            self.__playerNumber = ii\n",
    "            print('playerNumber ', ii)\n",
    "        else:\n",
    "            print(\"Player Number shouldn’t exceed 3\")\n",
    "\n",
    "    def __setPlayerSalaryPerWeek(self, iii):\n",
    "        if iii <= 100000:\n",
    "            self.__playerSalaryPerWeek = iii\n",
    "            print('playerSalaryPerWeek ', iii)\n",
    "        else:\n",
    "            print(\"Player Salary per week shouldn’t exceed 100,000\")\n",
    "\n",
    "    def __setContractDurationInYears(self, v):\n",
    "        if v <= 5:\n",
    "            self.__contractDurationInYears = v\n",
    "            print(\"contractDurationInYears \", v)\n",
    "        else:\n",
    "            print(\"Max contract duration is 5 Years\")\n",
    "\n",
    "    def __setNumberOfMatchesPlayed(self, vi):\n",
    "        self.__numberOfMatchesPlayed = vi\n",
    "\n",
    "    # Deleters\n",
    "    def __deletePlayerName(self):\n",
    "        del self.__playerName\n",
    "\n",
    "    def __deletePlayerNumber(self):\n",
    "        del self.__playerNumber\n",
    "\n",
    "    def __deletePlayerSalaryPerWeek(self):\n",
    "        del self.__playerSalaryPerWeek\n",
    "\n",
    "    def __deleteContractDurationInYears(self):\n",
    "        del self.__contractDurationInYears\n",
    "\n",
    "    def __deleteNumberOfMatchesPlayed(self):\n",
    "        del self.__numberOfMatchesPlayed\n",
    "\n",
    "    #Encapsulation / Proberty\n",
    "    playerName = property(__getPlayerName, __setPlayerName, __deletePlayerName)\n",
    "    playerNumber = property(\n",
    "        __getPlayerNumber, __setPlayerNumber, __deletePlayerNumber)\n",
    "    playerSalaryPerWeek = property(\n",
    "        __getPlayerSalaryPerWeek, __setPlayerSalaryPerWeek, __deletePlayerSalaryPerWeek)\n",
    "    playerSigningDate = property(__getSigningDate)\n",
    "    playerContractDurationInYears = property(\n",
    "        __getContractDurationInYears, __setContractDurationInYears, __deleteContractDurationInYears)\n",
    "    playerNumberOfMatchesPlayed = property(\n",
    "        __getNumberOfMatchesPlayed, __setNumberOfMatchesPlayed, __deleteNumberOfMatchesPlayed)\n",
    "    player1stAllInfo = property(__getAllInfo)\n",
    "\n",
    "    def __init__(self, i, ii, iii, iv, v, vi):\n",
    "        # self.__setAllInfo(i, ii, iii, iv, v, vi)\n",
    "        self.__setPlayerName(i)\n",
    "        self.__setPlayerNumber(ii)\n",
    "        self.__setPlayerSalaryPerWeek(iii)\n",
    "        self.__signingDate = datetime.datetime.strptime(\n",
    "            str(iv), \"%Y-%m-%d\").strftime('%Y-%m-%d')\n",
    "        # print('########',iv,self.__signingDate)\n",
    "        self.__setContractDurationInYears(v)\n",
    "        self.__setNumberOfMatchesPlayed(vi)\n",
    "\n",
    "    # abstract fun\n",
    "    def printPlayerData(self):\n",
    "        # print(self.__getAllInfo())\n",
    "        return self.__getAllInfo()\n",
    "\n",
    "    def calcSalaryPerYear(self):\n",
    "        return self.playerSalaryPerWeek * 4*12\n",
    "\n",
    "    # calcRemainingDuration(): return remaining duration of the player in days\n",
    "    # Remaining duration(in weeks) = the date (now) – signing data\n",
    "    def calcRemainingDuration(self):\n",
    "        d1 = datetime.datetime.strptime(self.playerSigningDate, '%Y-%m-%d')\n",
    "        d2 = datetime.datetime.today()\n",
    "        print(d2-d1)\n",
    "        if (self.playerContractDurationInYears*12*30)-(d2-d1).days > 0:\n",
    "            return (self.playerContractDurationInYears * 52)-((d2 - d1).days/7)\n",
    "        else:\n",
    "            return -1\n"
   ]
  },
  {
   "cell_type": "code",
   "execution_count": 125,
   "metadata": {},
   "outputs": [
    {
     "name": "stdout",
     "output_type": "stream",
     "text": [
      "playerNumber  11\n",
      "playerSalaryPerWeek  1000\n",
      "contractDurationInYears  3\n",
      "350 days, 0:02:16.448174\n"
     ]
    },
    {
     "data": {
      "text/plain": [
       "106.0"
      ]
     },
     "execution_count": 125,
     "metadata": {},
     "output_type": "execute_result"
    }
   ],
   "source": [
    "p1 = player('Salah',11,1000,'2021-02-22',3,27)\n",
    "p1.printPlayerData()\n",
    "p1.calcSalaryPerYear()\n",
    "p1.calcRemainingDuration()"
   ]
  },
  {
   "cell_type": "markdown",
   "metadata": {},
   "source": [
    "3. **Team captain Class:**\n",
    "- Team class inherits Player Class.\n",
    "- Additional private Fields:\n",
    "1. Leading Matches: (number of matches played as a\n",
    "team captain)\n",
    "2. Bonus\n",
    "> All private fields should have (setter, getter, delete, Property)\n",
    "- These are some constrains that should be implemented in the setters and getters:\n",
    "1. Bonus shouldn’t exceed 100,000\n",
    "2. Leading Matches is read only (No setter)\n",
    "- Parametrized constructor with initial values that support constructor over loading.\n",
    ">Notes:\n",
    ">  1. Obligatory fields (must be entered via constructor)\n",
    ">    (Player Name -Player Number - Signing Date)\n",
    "- Optional fields:\n",
    "1. Salary per week = 20,000\n",
    "2. contract duration in years = 3\n",
    "3. number of matches played = 0\n",
    "4. Bonus = 5000\n",
    "5. Leading Matches = 10\n",
    "- The class overrides the 2 functions of the Player Class as follows:\n",
    "1. printPlayerData(): print all the private fields (it will\n",
    "print the additional fields of the team captain and the fields from the player (Parent Class)).\n",
    "2. calcSalaryPerYear(): return the total salary of the\n",
    "player per Year total salary per year = weekly salary * 4 * 12 + Bonus\n",
    "- The class has additional functions:\n",
    "- increamentLeadingMtaches(): this function add +1 to the Leading Matches field.\n",
    "- Overload the “+” built in operator:\n",
    "When two players are added => it should return the summation of their salaries."
   ]
  },
  {
   "cell_type": "code",
   "execution_count": 119,
   "metadata": {},
   "outputs": [],
   "source": [
    "class teamCaptain(player):\n",
    "    __leadingMatches = None\n",
    "    __bonus = None\n",
    "\n",
    "    # Setters\n",
    "    # def __setLeadingMatches(self,i):\n",
    "    #     self.__leadingMatches = i\n",
    "\n",
    "    def __setBonus(self, ii):\n",
    "        if ii <= 100000:\n",
    "            self.__bonus = ii\n",
    "            print('playerSalaryPerWeek ', ii)\n",
    "        else:\n",
    "            print(\"Captain Bonus shouldn’t exceed 100,000\")\n",
    "\n",
    "    # Getters\n",
    "    def __getLeadingMatches(self):\n",
    "        return self.__leadingMatches\n",
    "\n",
    "    def __getBonus(self):\n",
    "        return self.__bonus\n",
    "\n",
    "    # Deleter\n",
    "    def __deleteLeadingMatches(self):\n",
    "        del self.__leadingMatches\n",
    "\n",
    "    def __deleteBonus(self):\n",
    "        del self.__bonus\n",
    "    LeadingMatches = property(__getLeadingMatches, __deleteLeadingMatches)\n",
    "    Bonus = property(__getBonus, __setBonus, __deleteBonus)\n",
    "\n",
    "    def __init__(self, i, ii, iii, iv, v, vi,leadMatches=10,bonus=5000):\n",
    "        # super().__init__(i, ii, iii, iv, v, vi)\n",
    "        player.__init__(self, i, ii, iii, iv, v, vi)\n",
    "        self.__leadingMatches = leadMatches\n",
    "        self.__setBonus(bonus)\n",
    "\n",
    "    def printPlayerData(self):\n",
    "        return self.player1stAllInfo + (self.__leadingMatches,self.__bonus,)\n",
    "\n",
    "    def calcSalaryPerYear(self):\n",
    "        return (self.playerSalaryPerWeek * 4 * 12) + self.__bonus\n",
    "\n",
    "    def calcRemainingDuration(self):\n",
    "        player.calcRemainingDuration(self)"
   ]
  },
  {
   "cell_type": "code",
   "execution_count": 120,
   "metadata": {},
   "outputs": [
    {
     "name": "stdout",
     "output_type": "stream",
     "text": [
      "playerNumber  11\n",
      "playerSalaryPerWeek  1000\n",
      "contractDurationInYears  3\n",
      "playerSalaryPerWeek  5000\n"
     ]
    }
   ],
   "source": [
    "p1 = teamCaptain('Salah',11,1000,'2021-02-22',3,27,18,5000)"
   ]
  },
  {
   "cell_type": "code",
   "execution_count": 121,
   "metadata": {},
   "outputs": [
    {
     "data": {
      "text/plain": [
       "5000"
      ]
     },
     "execution_count": 121,
     "metadata": {},
     "output_type": "execute_result"
    }
   ],
   "source": [
    "p1.LeadingMatches\n",
    "p1.Bonus"
   ]
  },
  {
   "cell_type": "code",
   "execution_count": 122,
   "metadata": {},
   "outputs": [
    {
     "data": {
      "text/plain": [
       "('Salah', 11, 1000, '2021-02-22', 3, 27, 18, 5000)"
      ]
     },
     "execution_count": 122,
     "metadata": {},
     "output_type": "execute_result"
    }
   ],
   "source": [
    "p1.printPlayerData()"
   ]
  },
  {
   "cell_type": "code",
   "execution_count": 123,
   "metadata": {},
   "outputs": [
    {
     "data": {
      "text/plain": [
       "53000"
      ]
     },
     "execution_count": 123,
     "metadata": {},
     "output_type": "execute_result"
    }
   ],
   "source": [
    "p1.calcSalaryPerYear()"
   ]
  },
  {
   "cell_type": "code",
   "execution_count": 124,
   "metadata": {},
   "outputs": [
    {
     "name": "stdout",
     "output_type": "stream",
     "text": [
      "350 days, 0:01:42.453391\n"
     ]
    }
   ],
   "source": [
    "p1.calcRemainingDuration()"
   ]
  }
 ],
 "metadata": {
  "interpreter": {
   "hash": "c2c3639f316740832002486dd26ba6b6250f1d86931da03b63eb8e91805d4fe1"
  },
  "kernelspec": {
   "display_name": "Python 3.9.2 64-bit",
   "language": "python",
   "name": "python3"
  },
  "language_info": {
   "codemirror_mode": {
    "name": "ipython",
    "version": 3
   },
   "file_extension": ".py",
   "mimetype": "text/x-python",
   "name": "python",
   "nbconvert_exporter": "python",
   "pygments_lexer": "ipython3",
   "version": "3.9.2"
  },
  "orig_nbformat": 4
 },
 "nbformat": 4,
 "nbformat_minor": 2
}
