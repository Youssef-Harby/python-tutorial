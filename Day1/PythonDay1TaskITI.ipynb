{
  "nbformat": 4,
  "nbformat_minor": 0,
  "metadata": {
    "colab": {
      "name": "PythonDay1TaskITI.ipynb",
      "provenance": [],
      "collapsed_sections": []
    },
    "kernelspec": {
      "name": "python3",
      "display_name": "Python 3"
    },
    "language_info": {
      "name": "python"
    }
  },
  "cells": [
    {
      "cell_type": "markdown",
      "source": [
        "**1- Write a Python program to get the volume of a sphere with radius 6**"
      ],
      "metadata": {
        "id": "TKcFkKdz14YA"
      }
    },
    {
      "cell_type": "code",
      "execution_count": null,
      "metadata": {
        "colab": {
          "base_uri": "https://localhost:8080/"
        },
        "id": "-BgLWBAn0bOB",
        "outputId": "0427f0bd-6ea3-4551-af59-cc2b056e0007"
      },
      "outputs": [
        {
          "name": "stdout",
          "output_type": "stream",
          "text": [
            "radius => positive number: 6\n"
          ]
        }
      ],
      "source": [
        "#Input from User\n",
        "radValue1 = int(input(\"radius => positive number: \"))"
      ]
    },
    {
      "cell_type": "code",
      "source": [
        "import math"
      ],
      "metadata": {
        "id": "TygHpfvI2nix"
      },
      "execution_count": null,
      "outputs": []
    },
    {
      "cell_type": "code",
      "source": [
        "\n",
        "V1 = 4/3 * math.pi * radValue1**3\n",
        "print(V1)"
      ],
      "metadata": {
        "colab": {
          "base_uri": "https://localhost:8080/"
        },
        "id": "D4NzZXoa2d96",
        "outputId": "7448feb6-453d-485d-b112-85a636fa8085"
      },
      "execution_count": null,
      "outputs": [
        {
          "output_type": "stream",
          "name": "stdout",
          "text": [
            "904.7786842338603\n"
          ]
        }
      ]
    },
    {
      "cell_type": "markdown",
      "source": [
        "**2- Write a Python program that accepts an integer (n) and computes the\n",
        "value of n+nn+nnn.**"
      ],
      "metadata": {
        "id": "_dGmbWoh23yj"
      }
    },
    {
      "cell_type": "code",
      "source": [
        "#Input from User\n",
        "while True:\n",
        "  try:\n",
        "      n = int(input('integer: '))\n",
        "      break\n",
        "  except:\n",
        "      print(\"That's not a valid number!\")"
      ],
      "metadata": {
        "colab": {
          "base_uri": "https://localhost:8080/"
        },
        "id": "FHoa_96v2_EZ",
        "outputId": "bfb7f127-23ad-400f-f6a3-07f28afd9e1c"
      },
      "execution_count": null,
      "outputs": [
        {
          "name": "stdout",
          "output_type": "stream",
          "text": [
            "integer: 6\n"
          ]
        }
      ]
    },
    {
      "cell_type": "code",
      "source": [
        "result2 = n + n*n + n*n*n\n",
        "print(result2)"
      ],
      "metadata": {
        "colab": {
          "base_uri": "https://localhost:8080/"
        },
        "id": "x79adZzb4vSL",
        "outputId": "a75d0886-df69-462c-f5b5-8b258cbfb199"
      },
      "execution_count": null,
      "outputs": [
        {
          "output_type": "stream",
          "name": "stdout",
          "text": [
            "258\n"
          ]
        }
      ]
    },
    {
      "cell_type": "markdown",
      "source": [
        "**3- Write a Python program that will accept the base and height of a triangle\n",
        "and compute the area**"
      ],
      "metadata": {
        "id": "wh1UgHDu5NMj"
      }
    },
    {
      "cell_type": "code",
      "source": [
        "#Input from User\n",
        "while True:\n",
        "  try:\n",
        "      tb = int(input('base: '))\n",
        "      th = int(input('height: '))\n",
        "      break\n",
        "  except:\n",
        "      print(\"That's not a valid number!\")"
      ],
      "metadata": {
        "colab": {
          "base_uri": "https://localhost:8080/"
        },
        "id": "LrhIEouh5SK7",
        "outputId": "8a4563c2-5f85-4af6-bafc-bbae9e77525f"
      },
      "execution_count": null,
      "outputs": [
        {
          "name": "stdout",
          "output_type": "stream",
          "text": [
            "base: 5\n",
            "height: 10\n"
          ]
        }
      ]
    },
    {
      "cell_type": "code",
      "source": [
        "tA = tb * th / 2\n",
        "print(tA)"
      ],
      "metadata": {
        "colab": {
          "base_uri": "https://localhost:8080/"
        },
        "id": "PteyKoD36HcQ",
        "outputId": "b52d304b-ea4d-4456-cdd1-46522d185a1f"
      },
      "execution_count": null,
      "outputs": [
        {
          "output_type": "stream",
          "name": "stdout",
          "text": [
            "25.0\n"
          ]
        }
      ]
    },
    {
      "cell_type": "markdown",
      "source": [
        "**4- . Write a Python program to sum of three given integers. However, if two\n",
        "values are equal sum will be zero.**"
      ],
      "metadata": {
        "id": "qKrWFuMW7B9y"
      }
    },
    {
      "cell_type": "code",
      "source": [
        "#Input from User\n",
        "while True:\n",
        "  try:\n",
        "    n1 = int(input('first number: '))\n",
        "    n2 = int(input('second number: '))\n",
        "    n3 = int(input('third number: '))\n",
        "    break\n",
        "  except:\n",
        "    print(\"That's not a valid number!\")"
      ],
      "metadata": {
        "colab": {
          "base_uri": "https://localhost:8080/"
        },
        "id": "NWrsrHI57Ft1",
        "outputId": "f6d6e55a-d9b5-4dd7-82e7-2ecb0135a798"
      },
      "execution_count": null,
      "outputs": [
        {
          "name": "stdout",
          "output_type": "stream",
          "text": [
            "first number: 80\n",
            "second number: 90\n",
            "third number: 80\n"
          ]
        }
      ]
    },
    {
      "cell_type": "code",
      "source": [
        "if n1 == n2 or n2 == n3 or n3 == n1:\n",
        "  sum4 = 0\n",
        "else:\n",
        "  sum4 = n1 + n2 + n3\n",
        "print(sum4)"
      ],
      "metadata": {
        "colab": {
          "base_uri": "https://localhost:8080/"
        },
        "id": "T_4O_djN8TcU",
        "outputId": "1611a262-5c66-4e0a-8f1d-703e90772bb2"
      },
      "execution_count": null,
      "outputs": [
        {
          "output_type": "stream",
          "name": "stdout",
          "text": [
            "0\n"
          ]
        }
      ]
    },
    {
      "cell_type": "markdown",
      "source": [
        "**5- Write a Python program to sum of two given integers. However, if the sum\n",
        "is between 15 to 20 it will return 20**"
      ],
      "metadata": {
        "id": "CdDKRVmWBN6f"
      }
    },
    {
      "cell_type": "code",
      "source": [
        "#Input from User\n",
        "while True:\n",
        "  try:\n",
        "    n1 = int(input('first number: '))\n",
        "    n2 = int(input('second number: '))\n",
        "    break\n",
        "  except:\n",
        "    print(\"That's not a valid number!\")"
      ],
      "metadata": {
        "colab": {
          "base_uri": "https://localhost:8080/"
        },
        "id": "TOraYGgJBRjQ",
        "outputId": "ebcd4db0-1e49-44e0-e2b1-74aa5c5962b9"
      },
      "execution_count": null,
      "outputs": [
        {
          "name": "stdout",
          "output_type": "stream",
          "text": [
            "first number: 10\n",
            "second number: 8\n"
          ]
        }
      ]
    },
    {
      "cell_type": "code",
      "source": [
        "if 15 < n1 + n2 < 20:\n",
        "  sum5 = 20\n",
        "else:\n",
        "  sum5 = n1 + n2\n",
        "print(sum5)"
      ],
      "metadata": {
        "colab": {
          "base_uri": "https://localhost:8080/"
        },
        "id": "rwdH0WSHBcom",
        "outputId": "d3a1a628-2f91-45a3-ac2e-1eb3d5e41668"
      },
      "execution_count": null,
      "outputs": [
        {
          "output_type": "stream",
          "name": "stdout",
          "text": [
            "20\n"
          ]
        }
      ]
    },
    {
      "cell_type": "markdown",
      "source": [
        "**6- Write a Python program that will return true if the two given integer values\n",
        "are equal or their sum or difference is 5**"
      ],
      "metadata": {
        "id": "nsrZa8fpCZS7"
      }
    },
    {
      "cell_type": "code",
      "source": [
        "#Input from User\n",
        "while True:\n",
        "  try:\n",
        "    n1 = int(input('first number: '))\n",
        "    n2 = int(input('second number: '))\n",
        "    break\n",
        "  except:\n",
        "    print(\"That's not a valid number!\")"
      ],
      "metadata": {
        "colab": {
          "base_uri": "https://localhost:8080/"
        },
        "id": "QCR_4bZHCdvs",
        "outputId": "e9923802-4d3c-4269-8ac9-4d2e18db3aaa"
      },
      "execution_count": null,
      "outputs": [
        {
          "name": "stdout",
          "output_type": "stream",
          "text": [
            "first number: 6\n",
            "second number: 6\n"
          ]
        }
      ]
    },
    {
      "cell_type": "code",
      "source": [
        "def check6():  \n",
        "  if n1 == n2 or n1 + n2 == 5 or n1 - n2 == 5 or n2 - n1 == 5:\n",
        "    return True\n",
        "check6()"
      ],
      "metadata": {
        "colab": {
          "base_uri": "https://localhost:8080/"
        },
        "id": "LKLqJqy4DR9g",
        "outputId": "937cd75e-ca4f-4c47-e079-b8c238acd796"
      },
      "execution_count": null,
      "outputs": [
        {
          "output_type": "execute_result",
          "data": {
            "text/plain": [
              "True"
            ]
          },
          "metadata": {},
          "execution_count": 62
        }
      ]
    },
    {
      "cell_type": "markdown",
      "source": [
        "**7- Write a Python program to add two objects if both objects are an integer\n",
        "type.**"
      ],
      "metadata": {
        "id": "l0BzQztuFv3K"
      }
    },
    {
      "cell_type": "code",
      "source": [
        ""
      ],
      "metadata": {
        "id": "8ogDaq7CFx4P"
      },
      "execution_count": null,
      "outputs": []
    },
    {
      "cell_type": "markdown",
      "source": [
        "**8- Write a Python program to compute the distance between the points (x1,\n",
        "y1) and (x2, y2)**"
      ],
      "metadata": {
        "id": "-FZUpRILIoqv"
      }
    },
    {
      "cell_type": "code",
      "source": [
        "#Input from User\n",
        "while True:\n",
        "  try:\n",
        "    x1 = int(input('x1: '))\n",
        "    y1 = int(input('y1: '))\n",
        "    x2 = int(input('x2: '))\n",
        "    y2 = int(input('y2: '))\n",
        "    break\n",
        "  except:\n",
        "    print(\"That's not a valid coordinate!\")"
      ],
      "metadata": {
        "id": "V64Ej2aTIsJn",
        "colab": {
          "base_uri": "https://localhost:8080/"
        },
        "outputId": "7649aa5d-e3a2-490d-8b2e-34c6e2ff6485"
      },
      "execution_count": null,
      "outputs": [
        {
          "name": "stdout",
          "output_type": "stream",
          "text": [
            "x1: 3\n",
            "y1: 2\n",
            "x2: 5\n",
            "y2: 6\n"
          ]
        }
      ]
    },
    {
      "cell_type": "code",
      "source": [
        "import math"
      ],
      "metadata": {
        "id": "ClKiaDYjMyxt"
      },
      "execution_count": null,
      "outputs": []
    },
    {
      "cell_type": "code",
      "source": [
        "d = math.sqrt(((x2-x1)**2)+((y2-y1)**2))\n",
        "print(d)"
      ],
      "metadata": {
        "colab": {
          "base_uri": "https://localhost:8080/"
        },
        "id": "RTce4KREM0GU",
        "outputId": "5b0b69d4-9a5e-4be9-9ace-e5196e0b0ae1"
      },
      "execution_count": null,
      "outputs": [
        {
          "output_type": "stream",
          "name": "stdout",
          "text": [
            "4.47213595499958\n"
          ]
        }
      ]
    },
    {
      "cell_type": "code",
      "source": [
        "from matplotlib import pyplot as plt\n",
        "point1 = [x1, y1]\n",
        "point2 = [x2, y2]\n",
        "x_values = [point1[0], point2[0]]\n",
        "y_values = [point1[1], point2[1]]\n",
        "plt.plot(x_values, y_values)\n",
        "plt.axis([0,10,0,10])\n",
        "plt.show()"
      ],
      "metadata": {
        "colab": {
          "base_uri": "https://localhost:8080/",
          "height": 269
        },
        "id": "2aJdING4Jdkr",
        "outputId": "020de365-3afe-403c-c0f9-e61cd493faf1"
      },
      "execution_count": null,
      "outputs": [
        {
          "output_type": "display_data",
          "data": {
            "image/png": "[encoded data removed]",
            "text/plain": [
              "<Figure size 432x288 with 1 Axes>"
            ]
          },
          "metadata": {
            "needs_background": "light"
          }
        }
      ]
    },
    {
      "cell_type": "markdown",
      "source": [
        "**9- Write a Python program to convert seconds to day, hour, minutes and\n",
        "seconds.**"
      ],
      "metadata": {
        "id": "fBtY0FkuRPbf"
      }
    },
    {
      "cell_type": "code",
      "source": [
        "\n",
        "#Input from User\n",
        "while True:\n",
        "  try:\n",
        "    sec9 = int(input('sec: '))\n",
        "    break\n",
        "  except:\n",
        "    print(\"That's not a valid number of seconds!\")"
      ],
      "metadata": {
        "colab": {
          "base_uri": "https://localhost:8080/"
        },
        "id": "ZLhZihNPRpbQ",
        "outputId": "9908ac03-8ba9-48c4-b52a-744a87e3bf6d"
      },
      "execution_count": null,
      "outputs": [
        {
          "name": "stdout",
          "output_type": "stream",
          "text": [
            "sec: 369121517\n"
          ]
        }
      ]
    },
    {
      "cell_type": "code",
      "source": [
        "sec = sec9\n",
        "minute = sec/60\n",
        "hour =  minute/60\n",
        "day = hour/24\n",
        "print(str(day) + \" days \" + str(hour) + \" hours \" + str(minute) + \" minutes \" + str(sec) + \" seconds \")"
      ],
      "metadata": {
        "colab": {
          "base_uri": "https://localhost:8080/"
        },
        "id": "9p3Y-XYiR7MU",
        "outputId": "e8cdddaf-ff55-4c85-f1da-4997891292f6"
      },
      "execution_count": null,
      "outputs": [
        {
          "output_type": "stream",
          "name": "stdout",
          "text": [
            "4272.239780092593 days 102533.75472222222 hours 6152025.283333333 minutes 369121517 seconds \n"
          ]
        }
      ]
    },
    {
      "cell_type": "code",
      "source": [
        "sec = sec9\n",
        "day = "
      ],
      "metadata": {
        "id": "7oBpyUfgo751"
      },
      "execution_count": null,
      "outputs": []
    }
  ]
}