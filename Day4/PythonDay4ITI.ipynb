{
 "cells": [
  {
   "cell_type": "markdown",
   "metadata": {},
   "source": [
    "## Python OOP"
   ]
  },
  {
   "cell_type": "markdown",
   "metadata": {},
   "source": [
    "CLass"
   ]
  },
  {
   "cell_type": "code",
   "execution_count": 17,
   "metadata": {},
   "outputs": [],
   "source": [
    "class student:\n",
    "    #Fields (Variables)\n",
    "    name = 'Mohamed'\n",
    "    age = 20\n",
    "    grade = 50\n",
    "    \n",
    "    #Function\n",
    "    def printAll():\n",
    "        print(name)\n",
    "        print(age)\n",
    "        print(grade)"
   ]
  },
  {
   "cell_type": "markdown",
   "metadata": {},
   "source": [
    "Object"
   ]
  },
  {
   "cell_type": "code",
   "execution_count": 18,
   "metadata": {},
   "outputs": [
    {
     "name": "stdout",
     "output_type": "stream",
     "text": [
      "30\n",
      "40\n"
     ]
    }
   ],
   "source": [
    "s1 = student()\n",
    "type(s1)\n",
    "s1.age = 30\n",
    "print(s1.age)\n",
    "s2 = student()\n",
    "s2.age = 40\n",
    "print(s2.age)"
   ]
  },
  {
   "cell_type": "markdown",
   "metadata": {},
   "source": [
    "Function"
   ]
  },
  {
   "cell_type": "code",
   "execution_count": 20,
   "metadata": {},
   "outputs": [
    {
     "ename": "TypeError",
     "evalue": "printAll() takes 0 positional arguments but 1 was given",
     "output_type": "error",
     "traceback": [
      "\u001b[1;31m---------------------------------------------------------------------------\u001b[0m",
      "\u001b[1;31mTypeError\u001b[0m                                 Traceback (most recent call last)",
      "Input \u001b[1;32mIn [20]\u001b[0m, in \u001b[0;36m<module>\u001b[1;34m\u001b[0m\n\u001b[1;32m----> 1\u001b[0m \u001b[43ms1\u001b[49m\u001b[38;5;241;43m.\u001b[39;49m\u001b[43mprintAll\u001b[49m\u001b[43m(\u001b[49m\u001b[43m)\u001b[49m\n",
      "\u001b[1;31mTypeError\u001b[0m: printAll() takes 0 positional arguments but 1 was given"
     ]
    }
   ],
   "source": [
    "s1.printAll()"
   ]
  },
  {
   "cell_type": "code",
   "execution_count": 27,
   "metadata": {},
   "outputs": [],
   "source": [
    "class student:\n",
    "    #Fields (Variables)\n",
    "    name = 'Mohamed'\n",
    "    age = 20\n",
    "    grade = 50\n",
    "    \n",
    "    #Function\n",
    "    def printAll(x):\n",
    "        print(name)\n",
    "        print(age)\n",
    "        print(grade)"
   ]
  },
  {
   "cell_type": "code",
   "execution_count": 34,
   "metadata": {},
   "outputs": [
    {
     "ename": "NameError",
     "evalue": "name 'name' is not defined",
     "output_type": "error",
     "traceback": [
      "\u001b[1;31m---------------------------------------------------------------------------\u001b[0m",
      "\u001b[1;31mNameError\u001b[0m                                 Traceback (most recent call last)",
      "Input \u001b[1;32mIn [34]\u001b[0m, in \u001b[0;36m<module>\u001b[1;34m\u001b[0m\n\u001b[0;32m      1\u001b[0m s1 \u001b[38;5;241m=\u001b[39m student()\n\u001b[1;32m----> 2\u001b[0m \u001b[43ms1\u001b[49m\u001b[38;5;241;43m.\u001b[39;49m\u001b[43mprintAll\u001b[49m\u001b[43m(\u001b[49m\u001b[43m)\u001b[49m\n",
      "Input \u001b[1;32mIn [27]\u001b[0m, in \u001b[0;36mstudent.printAll\u001b[1;34m(x)\u001b[0m\n\u001b[0;32m      8\u001b[0m \u001b[38;5;28;01mdef\u001b[39;00m \u001b[38;5;21mprintAll\u001b[39m(x):\n\u001b[1;32m----> 9\u001b[0m     \u001b[38;5;28mprint\u001b[39m(\u001b[43mname\u001b[49m)\n\u001b[0;32m     10\u001b[0m     \u001b[38;5;28mprint\u001b[39m(age)\n\u001b[0;32m     11\u001b[0m     \u001b[38;5;28mprint\u001b[39m(grade)\n",
      "\u001b[1;31mNameError\u001b[0m: name 'name' is not defined"
     ]
    }
   ],
   "source": [
    "s1 = student()\n",
    "s1.printAll()"
   ]
  },
  {
   "cell_type": "code",
   "execution_count": 35,
   "metadata": {},
   "outputs": [],
   "source": [
    "class student:\n",
    "    #Fields (Variables)\n",
    "    name = 'Mohamed'\n",
    "    age = 20\n",
    "    grade = 50\n",
    "    \n",
    "    #Function\n",
    "    def printAll(x):\n",
    "        print(x.name)\n",
    "        print(x.age)\n",
    "        print(x.grade)"
   ]
  },
  {
   "cell_type": "code",
   "execution_count": 36,
   "metadata": {},
   "outputs": [
    {
     "name": "stdout",
     "output_type": "stream",
     "text": [
      "Mohamed\n",
      "20\n",
      "50\n"
     ]
    }
   ],
   "source": [
    "s1 = student()\n",
    "s1.printAll()"
   ]
  },
  {
   "cell_type": "markdown",
   "metadata": {},
   "source": [
    "sefl fun"
   ]
  },
  {
   "cell_type": "code",
   "execution_count": 37,
   "metadata": {},
   "outputs": [],
   "source": [
    "class student:\n",
    "    #Fields (Variables)\n",
    "    name = 'Mohamed'\n",
    "    age = 20\n",
    "    grade = 50\n",
    "    \n",
    "    #Function\n",
    "    def printAll(self):\n",
    "        print(self.name)\n",
    "        print(self.age)\n",
    "        print(self.grade)"
   ]
  },
  {
   "cell_type": "code",
   "execution_count": 38,
   "metadata": {},
   "outputs": [
    {
     "name": "stdout",
     "output_type": "stream",
     "text": [
      "Mohamed\n",
      "20\n",
      "50\n"
     ]
    }
   ],
   "source": [
    "s1 = student()\n",
    "s1.printAll()"
   ]
  },
  {
   "cell_type": "markdown",
   "metadata": {},
   "source": [
    "sefl fun + bonus func add to grade"
   ]
  },
  {
   "cell_type": "code",
   "execution_count": 39,
   "metadata": {},
   "outputs": [],
   "source": [
    "class student:\n",
    "    #Fields (Variables)\n",
    "    name = 'Mohamed'\n",
    "    age = 20\n",
    "    grade = 50\n",
    "    \n",
    "    #Functions\n",
    "    def printAll(self):\n",
    "        print(self.name)\n",
    "        print(self.age)\n",
    "        print(self.grade)\n",
    "    \n",
    "    def bouns(self,x):\n",
    "        self.grade += x"
   ]
  },
  {
   "cell_type": "code",
   "execution_count": 41,
   "metadata": {},
   "outputs": [
    {
     "name": "stdout",
     "output_type": "stream",
     "text": [
      "Mohamed\n",
      "20\n",
      "70\n"
     ]
    }
   ],
   "source": [
    "s1 = student()\n",
    "s1.bouns(20)\n",
    "s1.printAll()"
   ]
  },
  {
   "cell_type": "markdown",
   "metadata": {},
   "source": [
    "## Constructor"
   ]
  },
  {
   "cell_type": "markdown",
   "metadata": {},
   "source": [
    "We can now remove fields"
   ]
  },
  {
   "cell_type": "code",
   "execution_count": 5,
   "metadata": {},
   "outputs": [],
   "source": [
    "class student:\n",
    "    #Fields (Variables) \n",
    "    # name = 'Mohamed'\n",
    "    # age = 20\n",
    "    # grade = 50 \n",
    "    \n",
    "    #Constructor\n",
    "    def __init__(self,n,a,g):\n",
    "        print('Object is created')\n",
    "        self.name = n\n",
    "        self.age = a\n",
    "        self.grade = g\n",
    "\n",
    "    #Destructor\n",
    "    def __del__(self):\n",
    "        print('Object is deleted')\n",
    "\n",
    "    \n",
    "    #Functions\n",
    "    def printAll(self):\n",
    "        print(self.name)\n",
    "        print(self.age)\n",
    "        print(self.grade)\n",
    "    \n",
    "    def bouns(self,x):\n",
    "        self.grade += x"
   ]
  },
  {
   "cell_type": "code",
   "execution_count": 9,
   "metadata": {},
   "outputs": [
    {
     "name": "stdout",
     "output_type": "stream",
     "text": [
      "aya\n",
      "10\n",
      "10\n"
     ]
    }
   ],
   "source": [
    "s2 = student('aya',10,10)\n",
    "s2.printAll()\n",
    "s2.bouns(10)\n",
    "del s2"
   ]
  },
  {
   "cell_type": "markdown",
   "metadata": {},
   "source": [
    "## Inheritance"
   ]
  },
  {
   "cell_type": "code",
   "execution_count": 14,
   "metadata": {},
   "outputs": [],
   "source": [
    "class father:\n",
    "    fname = 'dad'\n",
    "    \n",
    "    def printP(self):\n",
    "        print('Father Name: ', self.fname)\n",
    "\n",
    "class child(father):\n",
    "    pass"
   ]
  },
  {
   "cell_type": "markdown",
   "metadata": {},
   "source": [
    "- -- father\n",
    "- ---- child"
   ]
  },
  {
   "cell_type": "code",
   "execution_count": 13,
   "metadata": {},
   "outputs": [
    {
     "name": "stdout",
     "output_type": "stream",
     "text": [
      "Father Name:  dad\n"
     ]
    },
    {
     "data": {
      "text/plain": [
       "'dad'"
      ]
     },
     "execution_count": 13,
     "metadata": {},
     "output_type": "execute_result"
    }
   ],
   "source": [
    "f = father()\n",
    "f.printP()\n",
    "c = child()\n",
    "c.fname"
   ]
  },
  {
   "cell_type": "markdown",
   "metadata": {},
   "source": [
    "## Single Inheritance"
   ]
  },
  {
   "cell_type": "code",
   "execution_count": 15,
   "metadata": {},
   "outputs": [],
   "source": [
    "class father:\n",
    "    fname = 'dad'\n",
    "    \n",
    "    def printP(self):\n",
    "        print('Father Name: ', self.fname)\n",
    "\n",
    "class child(father):\n",
    "    cname = 'son'\n",
    "    \n",
    "    def printC(self):\n",
    "        print('Father Name: ', self.cname)"
   ]
  },
  {
   "cell_type": "markdown",
   "metadata": {},
   "source": [
    "- -- father\n",
    "- ---- child"
   ]
  },
  {
   "cell_type": "code",
   "execution_count": 16,
   "metadata": {},
   "outputs": [
    {
     "name": "stdout",
     "output_type": "stream",
     "text": [
      "Father Name:  dad\n",
      "Father Name:  son\n"
     ]
    }
   ],
   "source": [
    "f = father()\n",
    "f.printP()\n",
    "c = child()\n",
    "c.printC()"
   ]
  },
  {
   "cell_type": "markdown",
   "metadata": {},
   "source": [
    "## Multi Inheritance"
   ]
  },
  {
   "cell_type": "code",
   "execution_count": 20,
   "metadata": {},
   "outputs": [],
   "source": [
    "class father:\n",
    "    fname = 'dad'\n",
    "    \n",
    "    def printP(self):\n",
    "        print('Father Name: ', self.fname)\n",
    "\n",
    "class mother:\n",
    "    mname = 'mom'\n",
    "    \n",
    "    def printM(self):\n",
    "        print('Father Name: ', self.mname)\n",
    "\n",
    "class child(father,mother):\n",
    "    cname = 'son'\n",
    "    \n",
    "    def printC(self):\n",
    "        print('Father Name: ', self.cname)"
   ]
  },
  {
   "cell_type": "markdown",
   "metadata": {},
   "source": [
    "- -- father\n",
    "- -- mother\n",
    "- ---- child"
   ]
  },
  {
   "cell_type": "code",
   "execution_count": 21,
   "metadata": {},
   "outputs": [
    {
     "name": "stdout",
     "output_type": "stream",
     "text": [
      "Father Name:  dad\n",
      "Father Name:  mom\n",
      "Father Name:  son\n"
     ]
    }
   ],
   "source": [
    "f = father()\n",
    "f.printP()\n",
    "m = mother()\n",
    "m.printM()\n",
    "c = child()\n",
    "c.printC()"
   ]
  },
  {
   "cell_type": "markdown",
   "metadata": {},
   "source": [
    "## Hierarchical Inheritance"
   ]
  },
  {
   "cell_type": "code",
   "execution_count": 23,
   "metadata": {},
   "outputs": [],
   "source": [
    "class father:\n",
    "    fname = 'dad'\n",
    "    \n",
    "    def printP(self):\n",
    "        print('Father Name: ', self.fname)\n",
    "\n",
    "class mother:\n",
    "    mname = 'mom'\n",
    "    \n",
    "    def printM(self):\n",
    "        print('Father Name: ', self.mname)\n",
    "\n",
    "class child1(father,mother):\n",
    "    cname1 = 'son1'\n",
    "    \n",
    "    def printC1(self):\n",
    "        print('Father Name: ', self.cname1)\n",
    "\n",
    "class child2(father):\n",
    "    cname2 = 'son2'\n",
    "    \n",
    "    def printC2(self):\n",
    "        print('Father Name: ', self.cname2)"
   ]
  },
  {
   "cell_type": "markdown",
   "metadata": {},
   "source": [
    "- -- father\n",
    "- --- child 2\n",
    "- -- mother\n",
    "- ---- child"
   ]
  },
  {
   "cell_type": "code",
   "execution_count": null,
   "metadata": {},
   "outputs": [
    {
     "name": "stdout",
     "output_type": "stream",
     "text": [
      "Father Name:  dad\n",
      "Father Name:  mom\n",
      "Father Name:  son\n"
     ]
    }
   ],
   "source": [
    "f = father()\n",
    "f.printP()\n",
    "m = mother()\n",
    "m.printM()\n",
    "c = child()\n",
    "c.printC()"
   ]
  },
  {
   "cell_type": "markdown",
   "metadata": {},
   "source": [
    "## Multi-Level Inheritance"
   ]
  },
  {
   "cell_type": "code",
   "execution_count": 41,
   "metadata": {},
   "outputs": [],
   "source": [
    "class gfather:\n",
    "    gfname = 'grandfather'\n",
    "    \n",
    "    def printGFa(self):\n",
    "        print('Father Name: ', self.gfname)\n",
    "\n",
    "class father(gfather):\n",
    "    fname = 'dad'\n",
    "    \n",
    "    def printF(self):\n",
    "        print('Father Name: ', self.fname)\n",
    "\n",
    "class child(father):\n",
    "    cname = 'son'\n",
    "    \n",
    "    def printC(self):\n",
    "        print('Father Name: ', self.cname)"
   ]
  },
  {
   "cell_type": "code",
   "execution_count": 42,
   "metadata": {},
   "outputs": [
    {
     "name": "stdout",
     "output_type": "stream",
     "text": [
      "Father Name:  grandfather\n",
      "Father Name:  dad\n",
      "Father Name:  son\n"
     ]
    },
    {
     "data": {
      "text/plain": [
       "'grandfather'"
      ]
     },
     "execution_count": 42,
     "metadata": {},
     "output_type": "execute_result"
    }
   ],
   "source": [
    "gf = gfather()\n",
    "gf.printGFa()\n",
    "f = father()\n",
    "f.printF()\n",
    "c = child()\n",
    "c.printC()\n",
    "c.gfname ## child can access grandfather"
   ]
  },
  {
   "cell_type": "markdown",
   "metadata": {},
   "source": [
    "## Overriding"
   ]
  },
  {
   "cell_type": "code",
   "execution_count": 64,
   "metadata": {},
   "outputs": [],
   "source": [
    "class father:\n",
    "    fname = 'dad'\n",
    "    \n",
    "    def printAll(self):\n",
    "        print('Super Father Name: ', self.fname)\n",
    "\n",
    "class child(father):\n",
    "    cname = 'son'\n",
    "    \n",
    "    def printAll(self):\n",
    "        print('Child Name: ', self.cname)\n",
    "        print('C Father Name: ', self.fname)\n",
    "        super().printAll()"
   ]
  },
  {
   "cell_type": "code",
   "execution_count": 65,
   "metadata": {},
   "outputs": [
    {
     "name": "stdout",
     "output_type": "stream",
     "text": [
      "Super Father Name:  dad\n",
      "Child Name:  son\n",
      "C Father Name:  dad\n",
      "Super Father Name:  dad\n"
     ]
    }
   ],
   "source": [
    "f = father()\n",
    "f.printAll()\n",
    "c = child()\n",
    "c.printAll()"
   ]
  },
  {
   "cell_type": "markdown",
   "metadata": {},
   "source": [
    "## Multi-Level Overriding"
   ]
  },
  {
   "cell_type": "code",
   "execution_count": 88,
   "metadata": {},
   "outputs": [],
   "source": [
    "class grandfather:\n",
    "    gname = 'grandpa'\n",
    "    def printAll(self):\n",
    "        print('Super Grand Name: ', self.gname)\n",
    "\n",
    "class father(grandfather):\n",
    "    fname = 'dad'\n",
    "    \n",
    "    def printAll(self):\n",
    "        print('Super Father Name: ', self.fname)\n",
    "        # super().printAll()\n",
    "        grandfather.printAll(self)\n",
    "\n",
    "class mother:\n",
    "    mname = 'mom'\n",
    "    \n",
    "    def printAll(self):\n",
    "        print('Super Mother Name: ', self.mname)\n",
    "\n",
    "class child(father,mother):\n",
    "    cname = 'son'\n",
    "    \n",
    "    def printAll(self):\n",
    "        print('Child Name: ', self.cname)\n",
    "        # print('C Father Name: ', self.fname)\n",
    "        # super().printAll()\n",
    "        father.printAll(self)\n",
    "        mother.printAll(self)"
   ]
  },
  {
   "cell_type": "code",
   "execution_count": 89,
   "metadata": {},
   "outputs": [
    {
     "name": "stdout",
     "output_type": "stream",
     "text": [
      "Child Name:  son\n",
      "Super Father Name:  dad\n",
      "Super Grand Name:  grandpa\n",
      "Super Mother Name:  mom\n"
     ]
    }
   ],
   "source": [
    "# gf = grandfather()\n",
    "# gf.printAll()\n",
    "# f = father()\n",
    "# f.printAll()\n",
    "c = child()\n",
    "c.printAll()"
   ]
  },
  {
   "cell_type": "markdown",
   "metadata": {},
   "source": [
    "## Chain Constructor/Overriding"
   ]
  },
  {
   "cell_type": "code",
   "execution_count": 121,
   "metadata": {},
   "outputs": [],
   "source": [
    "class father:\n",
    "    #fname = None\n",
    "\n",
    "    def __init__(self,f='dad'):\n",
    "        self.fname = f\n",
    "    \n",
    "    def printAll(self):\n",
    "        print('Super Father Name: ', self.fname)\n",
    "\n",
    "class child(father):\n",
    "    cname = None\n",
    "\n",
    "    def __init__(self,c='child',d='dadyyy'):\n",
    "        self.cname = c\n",
    "        # self.fname = d                #1 chain method\n",
    "        # super().__init__(d)           #2 chain method Prefered\n",
    "        father.__init__(self,d)         #3 chain method\n",
    "    \n",
    "    def printAll(self):\n",
    "        print('Child Name: ', self.cname)\n",
    "        father.printAll(self)"
   ]
  },
  {
   "cell_type": "code",
   "execution_count": 122,
   "metadata": {},
   "outputs": [
    {
     "name": "stdout",
     "output_type": "stream",
     "text": [
      "Super Father Name:  dad\n",
      "Child Name:  child\n",
      "Super Father Name:  dadyyy\n"
     ]
    }
   ],
   "source": [
    "f = father()\n",
    "f.printAll()\n",
    "c = child()\n",
    "c.printAll()"
   ]
  }
 ],
 "metadata": {
  "interpreter": {
   "hash": "c2c3639f316740832002486dd26ba6b6250f1d86931da03b63eb8e91805d4fe1"
  },
  "kernelspec": {
   "display_name": "Python 3.9.2 64-bit",
   "language": "python",
   "name": "python3"
  },
  "language_info": {
   "codemirror_mode": {
    "name": "ipython",
    "version": 3
   },
   "file_extension": ".py",
   "mimetype": "text/x-python",
   "name": "python",
   "nbconvert_exporter": "python",
   "pygments_lexer": "ipython3",
   "version": "3.9.2"
  },
  "orig_nbformat": 4
 },
 "nbformat": 4,
 "nbformat_minor": 2
}
